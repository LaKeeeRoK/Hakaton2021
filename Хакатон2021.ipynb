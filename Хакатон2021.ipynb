{
  "nbformat": 4,
  "nbformat_minor": 0,
  "metadata": {
    "colab": {
      "name": "Хакатон2021.ipynb",
      "provenance": [],
      "collapsed_sections": []
    },
    "kernelspec": {
      "display_name": "Python 3",
      "name": "python3"
    },
    "language_info": {
      "name": "python"
    },
    "widgets": {
      "application/vnd.jupyter.widget-state+json": {
        "421eeda2d9b14aa9a060c26c8c8a5c95": {
          "model_module": "@jupyter-widgets/controls",
          "model_name": "HBoxModel",
          "model_module_version": "1.5.0",
          "state": {
            "_view_name": "HBoxView",
            "_dom_classes": [],
            "_model_name": "HBoxModel",
            "_view_module": "@jupyter-widgets/controls",
            "_model_module_version": "1.5.0",
            "_view_count": null,
            "_view_module_version": "1.5.0",
            "box_style": "",
            "layout": "IPY_MODEL_a0a587d6be6f487e8ea4d72a829219e3",
            "_model_module": "@jupyter-widgets/controls",
            "children": [
              "IPY_MODEL_7aa065c6a712481ca835c9514f4c58b9",
              "IPY_MODEL_a76e14bc7f49459b935f4567390d5d38",
              "IPY_MODEL_6c090272d1a1405cb60a6438fae1f072"
            ]
          }
        },
        "a0a587d6be6f487e8ea4d72a829219e3": {
          "model_module": "@jupyter-widgets/base",
          "model_name": "LayoutModel",
          "model_module_version": "1.2.0",
          "state": {
            "_view_name": "LayoutView",
            "grid_template_rows": null,
            "right": null,
            "justify_content": null,
            "_view_module": "@jupyter-widgets/base",
            "overflow": null,
            "_model_module_version": "1.2.0",
            "_view_count": null,
            "flex_flow": null,
            "width": null,
            "min_width": null,
            "border": null,
            "align_items": null,
            "bottom": null,
            "_model_module": "@jupyter-widgets/base",
            "top": null,
            "grid_column": null,
            "overflow_y": null,
            "overflow_x": null,
            "grid_auto_flow": null,
            "grid_area": null,
            "grid_template_columns": null,
            "flex": null,
            "_model_name": "LayoutModel",
            "justify_items": null,
            "grid_row": null,
            "max_height": null,
            "align_content": null,
            "visibility": null,
            "align_self": null,
            "height": null,
            "min_height": null,
            "padding": null,
            "grid_auto_rows": null,
            "grid_gap": null,
            "max_width": null,
            "order": null,
            "_view_module_version": "1.2.0",
            "grid_template_areas": null,
            "object_position": null,
            "object_fit": null,
            "grid_auto_columns": null,
            "margin": null,
            "display": null,
            "left": null
          }
        },
        "7aa065c6a712481ca835c9514f4c58b9": {
          "model_module": "@jupyter-widgets/controls",
          "model_name": "HTMLModel",
          "model_module_version": "1.5.0",
          "state": {
            "_view_name": "HTMLView",
            "style": "IPY_MODEL_71c4b8d7074d4a80bd31ed079d8ae7c8",
            "_dom_classes": [],
            "description": "",
            "_model_name": "HTMLModel",
            "placeholder": "​",
            "_view_module": "@jupyter-widgets/controls",
            "_model_module_version": "1.5.0",
            "value": "100%",
            "_view_count": null,
            "_view_module_version": "1.5.0",
            "description_tooltip": null,
            "_model_module": "@jupyter-widgets/controls",
            "layout": "IPY_MODEL_8ceaeb55c6fa4f7e864d461ae9830db4"
          }
        },
        "a76e14bc7f49459b935f4567390d5d38": {
          "model_module": "@jupyter-widgets/controls",
          "model_name": "FloatProgressModel",
          "model_module_version": "1.5.0",
          "state": {
            "_view_name": "ProgressView",
            "style": "IPY_MODEL_e5c23947e4bc4c43bc60de0597b80244",
            "_dom_classes": [],
            "description": "",
            "_model_name": "FloatProgressModel",
            "bar_style": "success",
            "max": 268914,
            "_view_module": "@jupyter-widgets/controls",
            "_model_module_version": "1.5.0",
            "value": 268914,
            "_view_count": null,
            "_view_module_version": "1.5.0",
            "orientation": "horizontal",
            "min": 0,
            "description_tooltip": null,
            "_model_module": "@jupyter-widgets/controls",
            "layout": "IPY_MODEL_deff9d2164ff4ba39a4c5f837b639f1a"
          }
        },
        "6c090272d1a1405cb60a6438fae1f072": {
          "model_module": "@jupyter-widgets/controls",
          "model_name": "HTMLModel",
          "model_module_version": "1.5.0",
          "state": {
            "_view_name": "HTMLView",
            "style": "IPY_MODEL_07db1d8b052a46e6ace265a13475805b",
            "_dom_classes": [],
            "description": "",
            "_model_name": "HTMLModel",
            "placeholder": "​",
            "_view_module": "@jupyter-widgets/controls",
            "_model_module_version": "1.5.0",
            "value": " 268914/268914 [00:18&lt;00:00, 26110.79it/s]",
            "_view_count": null,
            "_view_module_version": "1.5.0",
            "description_tooltip": null,
            "_model_module": "@jupyter-widgets/controls",
            "layout": "IPY_MODEL_5a6c8df5b38b47c69cb4f74508430edf"
          }
        },
        "71c4b8d7074d4a80bd31ed079d8ae7c8": {
          "model_module": "@jupyter-widgets/controls",
          "model_name": "DescriptionStyleModel",
          "model_module_version": "1.5.0",
          "state": {
            "_view_name": "StyleView",
            "_model_name": "DescriptionStyleModel",
            "description_width": "",
            "_view_module": "@jupyter-widgets/base",
            "_model_module_version": "1.5.0",
            "_view_count": null,
            "_view_module_version": "1.2.0",
            "_model_module": "@jupyter-widgets/controls"
          }
        },
        "8ceaeb55c6fa4f7e864d461ae9830db4": {
          "model_module": "@jupyter-widgets/base",
          "model_name": "LayoutModel",
          "model_module_version": "1.2.0",
          "state": {
            "_view_name": "LayoutView",
            "grid_template_rows": null,
            "right": null,
            "justify_content": null,
            "_view_module": "@jupyter-widgets/base",
            "overflow": null,
            "_model_module_version": "1.2.0",
            "_view_count": null,
            "flex_flow": null,
            "width": null,
            "min_width": null,
            "border": null,
            "align_items": null,
            "bottom": null,
            "_model_module": "@jupyter-widgets/base",
            "top": null,
            "grid_column": null,
            "overflow_y": null,
            "overflow_x": null,
            "grid_auto_flow": null,
            "grid_area": null,
            "grid_template_columns": null,
            "flex": null,
            "_model_name": "LayoutModel",
            "justify_items": null,
            "grid_row": null,
            "max_height": null,
            "align_content": null,
            "visibility": null,
            "align_self": null,
            "height": null,
            "min_height": null,
            "padding": null,
            "grid_auto_rows": null,
            "grid_gap": null,
            "max_width": null,
            "order": null,
            "_view_module_version": "1.2.0",
            "grid_template_areas": null,
            "object_position": null,
            "object_fit": null,
            "grid_auto_columns": null,
            "margin": null,
            "display": null,
            "left": null
          }
        },
        "e5c23947e4bc4c43bc60de0597b80244": {
          "model_module": "@jupyter-widgets/controls",
          "model_name": "ProgressStyleModel",
          "model_module_version": "1.5.0",
          "state": {
            "_view_name": "StyleView",
            "_model_name": "ProgressStyleModel",
            "description_width": "",
            "_view_module": "@jupyter-widgets/base",
            "_model_module_version": "1.5.0",
            "_view_count": null,
            "_view_module_version": "1.2.0",
            "bar_color": null,
            "_model_module": "@jupyter-widgets/controls"
          }
        },
        "deff9d2164ff4ba39a4c5f837b639f1a": {
          "model_module": "@jupyter-widgets/base",
          "model_name": "LayoutModel",
          "model_module_version": "1.2.0",
          "state": {
            "_view_name": "LayoutView",
            "grid_template_rows": null,
            "right": null,
            "justify_content": null,
            "_view_module": "@jupyter-widgets/base",
            "overflow": null,
            "_model_module_version": "1.2.0",
            "_view_count": null,
            "flex_flow": null,
            "width": null,
            "min_width": null,
            "border": null,
            "align_items": null,
            "bottom": null,
            "_model_module": "@jupyter-widgets/base",
            "top": null,
            "grid_column": null,
            "overflow_y": null,
            "overflow_x": null,
            "grid_auto_flow": null,
            "grid_area": null,
            "grid_template_columns": null,
            "flex": null,
            "_model_name": "LayoutModel",
            "justify_items": null,
            "grid_row": null,
            "max_height": null,
            "align_content": null,
            "visibility": null,
            "align_self": null,
            "height": null,
            "min_height": null,
            "padding": null,
            "grid_auto_rows": null,
            "grid_gap": null,
            "max_width": null,
            "order": null,
            "_view_module_version": "1.2.0",
            "grid_template_areas": null,
            "object_position": null,
            "object_fit": null,
            "grid_auto_columns": null,
            "margin": null,
            "display": null,
            "left": null
          }
        },
        "07db1d8b052a46e6ace265a13475805b": {
          "model_module": "@jupyter-widgets/controls",
          "model_name": "DescriptionStyleModel",
          "model_module_version": "1.5.0",
          "state": {
            "_view_name": "StyleView",
            "_model_name": "DescriptionStyleModel",
            "description_width": "",
            "_view_module": "@jupyter-widgets/base",
            "_model_module_version": "1.5.0",
            "_view_count": null,
            "_view_module_version": "1.2.0",
            "_model_module": "@jupyter-widgets/controls"
          }
        },
        "5a6c8df5b38b47c69cb4f74508430edf": {
          "model_module": "@jupyter-widgets/base",
          "model_name": "LayoutModel",
          "model_module_version": "1.2.0",
          "state": {
            "_view_name": "LayoutView",
            "grid_template_rows": null,
            "right": null,
            "justify_content": null,
            "_view_module": "@jupyter-widgets/base",
            "overflow": null,
            "_model_module_version": "1.2.0",
            "_view_count": null,
            "flex_flow": null,
            "width": null,
            "min_width": null,
            "border": null,
            "align_items": null,
            "bottom": null,
            "_model_module": "@jupyter-widgets/base",
            "top": null,
            "grid_column": null,
            "overflow_y": null,
            "overflow_x": null,
            "grid_auto_flow": null,
            "grid_area": null,
            "grid_template_columns": null,
            "flex": null,
            "_model_name": "LayoutModel",
            "justify_items": null,
            "grid_row": null,
            "max_height": null,
            "align_content": null,
            "visibility": null,
            "align_self": null,
            "height": null,
            "min_height": null,
            "padding": null,
            "grid_auto_rows": null,
            "grid_gap": null,
            "max_width": null,
            "order": null,
            "_view_module_version": "1.2.0",
            "grid_template_areas": null,
            "object_position": null,
            "object_fit": null,
            "grid_auto_columns": null,
            "margin": null,
            "display": null,
            "left": null
          }
        },
        "392916b91f2b4695b6f3c40e9596897b": {
          "model_module": "@jupyter-widgets/controls",
          "model_name": "HBoxModel",
          "model_module_version": "1.5.0",
          "state": {
            "_view_name": "HBoxView",
            "_dom_classes": [],
            "_model_name": "HBoxModel",
            "_view_module": "@jupyter-widgets/controls",
            "_model_module_version": "1.5.0",
            "_view_count": null,
            "_view_module_version": "1.5.0",
            "box_style": "",
            "layout": "IPY_MODEL_93598b882bce4ee9ada05edee35d0fe5",
            "_model_module": "@jupyter-widgets/controls",
            "children": [
              "IPY_MODEL_926c4062867445f2adeb3ca26504faf0",
              "IPY_MODEL_2128d1b8d4ac4f32a3e3c4f2ec300beb",
              "IPY_MODEL_dab199b09a9b41379e8e872b4caa71d7"
            ]
          }
        },
        "93598b882bce4ee9ada05edee35d0fe5": {
          "model_module": "@jupyter-widgets/base",
          "model_name": "LayoutModel",
          "model_module_version": "1.2.0",
          "state": {
            "_view_name": "LayoutView",
            "grid_template_rows": null,
            "right": null,
            "justify_content": null,
            "_view_module": "@jupyter-widgets/base",
            "overflow": null,
            "_model_module_version": "1.2.0",
            "_view_count": null,
            "flex_flow": null,
            "width": null,
            "min_width": null,
            "border": null,
            "align_items": null,
            "bottom": null,
            "_model_module": "@jupyter-widgets/base",
            "top": null,
            "grid_column": null,
            "overflow_y": null,
            "overflow_x": null,
            "grid_auto_flow": null,
            "grid_area": null,
            "grid_template_columns": null,
            "flex": null,
            "_model_name": "LayoutModel",
            "justify_items": null,
            "grid_row": null,
            "max_height": null,
            "align_content": null,
            "visibility": null,
            "align_self": null,
            "height": null,
            "min_height": null,
            "padding": null,
            "grid_auto_rows": null,
            "grid_gap": null,
            "max_width": null,
            "order": null,
            "_view_module_version": "1.2.0",
            "grid_template_areas": null,
            "object_position": null,
            "object_fit": null,
            "grid_auto_columns": null,
            "margin": null,
            "display": null,
            "left": null
          }
        },
        "926c4062867445f2adeb3ca26504faf0": {
          "model_module": "@jupyter-widgets/controls",
          "model_name": "HTMLModel",
          "model_module_version": "1.5.0",
          "state": {
            "_view_name": "HTMLView",
            "style": "IPY_MODEL_e22f6ffc0fa74200a68d4f980eae595c",
            "_dom_classes": [],
            "description": "",
            "_model_name": "HTMLModel",
            "placeholder": "​",
            "_view_module": "@jupyter-widgets/controls",
            "_model_module_version": "1.5.0",
            "value": "100%",
            "_view_count": null,
            "_view_module_version": "1.5.0",
            "description_tooltip": null,
            "_model_module": "@jupyter-widgets/controls",
            "layout": "IPY_MODEL_c69d1ef919fe4caaa18dd445e1cd00ca"
          }
        },
        "2128d1b8d4ac4f32a3e3c4f2ec300beb": {
          "model_module": "@jupyter-widgets/controls",
          "model_name": "FloatProgressModel",
          "model_module_version": "1.5.0",
          "state": {
            "_view_name": "ProgressView",
            "style": "IPY_MODEL_3d8502350d3045fc9480c2ed199c1ffb",
            "_dom_classes": [],
            "description": "",
            "_model_name": "FloatProgressModel",
            "bar_style": "success",
            "max": 268914,
            "_view_module": "@jupyter-widgets/controls",
            "_model_module_version": "1.5.0",
            "value": 268914,
            "_view_count": null,
            "_view_module_version": "1.5.0",
            "orientation": "horizontal",
            "min": 0,
            "description_tooltip": null,
            "_model_module": "@jupyter-widgets/controls",
            "layout": "IPY_MODEL_f4bd951cb30140a5b6ac040f67548353"
          }
        },
        "dab199b09a9b41379e8e872b4caa71d7": {
          "model_module": "@jupyter-widgets/controls",
          "model_name": "HTMLModel",
          "model_module_version": "1.5.0",
          "state": {
            "_view_name": "HTMLView",
            "style": "IPY_MODEL_b83df244f64d4ffdb09b16058cebae92",
            "_dom_classes": [],
            "description": "",
            "_model_name": "HTMLModel",
            "placeholder": "​",
            "_view_module": "@jupyter-widgets/controls",
            "_model_module_version": "1.5.0",
            "value": " 268914/268914 [06:02&lt;00:00, 1878.74it/s]",
            "_view_count": null,
            "_view_module_version": "1.5.0",
            "description_tooltip": null,
            "_model_module": "@jupyter-widgets/controls",
            "layout": "IPY_MODEL_1973fc209d384e74834d052d8dc0cbe4"
          }
        },
        "e22f6ffc0fa74200a68d4f980eae595c": {
          "model_module": "@jupyter-widgets/controls",
          "model_name": "DescriptionStyleModel",
          "model_module_version": "1.5.0",
          "state": {
            "_view_name": "StyleView",
            "_model_name": "DescriptionStyleModel",
            "description_width": "",
            "_view_module": "@jupyter-widgets/base",
            "_model_module_version": "1.5.0",
            "_view_count": null,
            "_view_module_version": "1.2.0",
            "_model_module": "@jupyter-widgets/controls"
          }
        },
        "c69d1ef919fe4caaa18dd445e1cd00ca": {
          "model_module": "@jupyter-widgets/base",
          "model_name": "LayoutModel",
          "model_module_version": "1.2.0",
          "state": {
            "_view_name": "LayoutView",
            "grid_template_rows": null,
            "right": null,
            "justify_content": null,
            "_view_module": "@jupyter-widgets/base",
            "overflow": null,
            "_model_module_version": "1.2.0",
            "_view_count": null,
            "flex_flow": null,
            "width": null,
            "min_width": null,
            "border": null,
            "align_items": null,
            "bottom": null,
            "_model_module": "@jupyter-widgets/base",
            "top": null,
            "grid_column": null,
            "overflow_y": null,
            "overflow_x": null,
            "grid_auto_flow": null,
            "grid_area": null,
            "grid_template_columns": null,
            "flex": null,
            "_model_name": "LayoutModel",
            "justify_items": null,
            "grid_row": null,
            "max_height": null,
            "align_content": null,
            "visibility": null,
            "align_self": null,
            "height": null,
            "min_height": null,
            "padding": null,
            "grid_auto_rows": null,
            "grid_gap": null,
            "max_width": null,
            "order": null,
            "_view_module_version": "1.2.0",
            "grid_template_areas": null,
            "object_position": null,
            "object_fit": null,
            "grid_auto_columns": null,
            "margin": null,
            "display": null,
            "left": null
          }
        },
        "3d8502350d3045fc9480c2ed199c1ffb": {
          "model_module": "@jupyter-widgets/controls",
          "model_name": "ProgressStyleModel",
          "model_module_version": "1.5.0",
          "state": {
            "_view_name": "StyleView",
            "_model_name": "ProgressStyleModel",
            "description_width": "",
            "_view_module": "@jupyter-widgets/base",
            "_model_module_version": "1.5.0",
            "_view_count": null,
            "_view_module_version": "1.2.0",
            "bar_color": null,
            "_model_module": "@jupyter-widgets/controls"
          }
        },
        "f4bd951cb30140a5b6ac040f67548353": {
          "model_module": "@jupyter-widgets/base",
          "model_name": "LayoutModel",
          "model_module_version": "1.2.0",
          "state": {
            "_view_name": "LayoutView",
            "grid_template_rows": null,
            "right": null,
            "justify_content": null,
            "_view_module": "@jupyter-widgets/base",
            "overflow": null,
            "_model_module_version": "1.2.0",
            "_view_count": null,
            "flex_flow": null,
            "width": null,
            "min_width": null,
            "border": null,
            "align_items": null,
            "bottom": null,
            "_model_module": "@jupyter-widgets/base",
            "top": null,
            "grid_column": null,
            "overflow_y": null,
            "overflow_x": null,
            "grid_auto_flow": null,
            "grid_area": null,
            "grid_template_columns": null,
            "flex": null,
            "_model_name": "LayoutModel",
            "justify_items": null,
            "grid_row": null,
            "max_height": null,
            "align_content": null,
            "visibility": null,
            "align_self": null,
            "height": null,
            "min_height": null,
            "padding": null,
            "grid_auto_rows": null,
            "grid_gap": null,
            "max_width": null,
            "order": null,
            "_view_module_version": "1.2.0",
            "grid_template_areas": null,
            "object_position": null,
            "object_fit": null,
            "grid_auto_columns": null,
            "margin": null,
            "display": null,
            "left": null
          }
        },
        "b83df244f64d4ffdb09b16058cebae92": {
          "model_module": "@jupyter-widgets/controls",
          "model_name": "DescriptionStyleModel",
          "model_module_version": "1.5.0",
          "state": {
            "_view_name": "StyleView",
            "_model_name": "DescriptionStyleModel",
            "description_width": "",
            "_view_module": "@jupyter-widgets/base",
            "_model_module_version": "1.5.0",
            "_view_count": null,
            "_view_module_version": "1.2.0",
            "_model_module": "@jupyter-widgets/controls"
          }
        },
        "1973fc209d384e74834d052d8dc0cbe4": {
          "model_module": "@jupyter-widgets/base",
          "model_name": "LayoutModel",
          "model_module_version": "1.2.0",
          "state": {
            "_view_name": "LayoutView",
            "grid_template_rows": null,
            "right": null,
            "justify_content": null,
            "_view_module": "@jupyter-widgets/base",
            "overflow": null,
            "_model_module_version": "1.2.0",
            "_view_count": null,
            "flex_flow": null,
            "width": null,
            "min_width": null,
            "border": null,
            "align_items": null,
            "bottom": null,
            "_model_module": "@jupyter-widgets/base",
            "top": null,
            "grid_column": null,
            "overflow_y": null,
            "overflow_x": null,
            "grid_auto_flow": null,
            "grid_area": null,
            "grid_template_columns": null,
            "flex": null,
            "_model_name": "LayoutModel",
            "justify_items": null,
            "grid_row": null,
            "max_height": null,
            "align_content": null,
            "visibility": null,
            "align_self": null,
            "height": null,
            "min_height": null,
            "padding": null,
            "grid_auto_rows": null,
            "grid_gap": null,
            "max_width": null,
            "order": null,
            "_view_module_version": "1.2.0",
            "grid_template_areas": null,
            "object_position": null,
            "object_fit": null,
            "grid_auto_columns": null,
            "margin": null,
            "display": null,
            "left": null
          }
        },
        "99db575530c141ca88c37a8ae47474b2": {
          "model_module": "@jupyter-widgets/controls",
          "model_name": "HBoxModel",
          "model_module_version": "1.5.0",
          "state": {
            "_view_name": "HBoxView",
            "_dom_classes": [],
            "_model_name": "HBoxModel",
            "_view_module": "@jupyter-widgets/controls",
            "_model_module_version": "1.5.0",
            "_view_count": null,
            "_view_module_version": "1.5.0",
            "box_style": "",
            "layout": "IPY_MODEL_3db9be0d49ee4b16b3fa31dc69ee05f1",
            "_model_module": "@jupyter-widgets/controls",
            "children": [
              "IPY_MODEL_cbb1598aa4554f7ab6551b877f117eb8",
              "IPY_MODEL_1d8e21c155d24056a65d963d322ddad5",
              "IPY_MODEL_8b897f6612f5468a81aae41ed5bcc202"
            ]
          }
        },
        "3db9be0d49ee4b16b3fa31dc69ee05f1": {
          "model_module": "@jupyter-widgets/base",
          "model_name": "LayoutModel",
          "model_module_version": "1.2.0",
          "state": {
            "_view_name": "LayoutView",
            "grid_template_rows": null,
            "right": null,
            "justify_content": null,
            "_view_module": "@jupyter-widgets/base",
            "overflow": null,
            "_model_module_version": "1.2.0",
            "_view_count": null,
            "flex_flow": null,
            "width": null,
            "min_width": null,
            "border": null,
            "align_items": null,
            "bottom": null,
            "_model_module": "@jupyter-widgets/base",
            "top": null,
            "grid_column": null,
            "overflow_y": null,
            "overflow_x": null,
            "grid_auto_flow": null,
            "grid_area": null,
            "grid_template_columns": null,
            "flex": null,
            "_model_name": "LayoutModel",
            "justify_items": null,
            "grid_row": null,
            "max_height": null,
            "align_content": null,
            "visibility": null,
            "align_self": null,
            "height": null,
            "min_height": null,
            "padding": null,
            "grid_auto_rows": null,
            "grid_gap": null,
            "max_width": null,
            "order": null,
            "_view_module_version": "1.2.0",
            "grid_template_areas": null,
            "object_position": null,
            "object_fit": null,
            "grid_auto_columns": null,
            "margin": null,
            "display": null,
            "left": null
          }
        },
        "cbb1598aa4554f7ab6551b877f117eb8": {
          "model_module": "@jupyter-widgets/controls",
          "model_name": "HTMLModel",
          "model_module_version": "1.5.0",
          "state": {
            "_view_name": "HTMLView",
            "style": "IPY_MODEL_830b097530b2478ebb21933e75518d28",
            "_dom_classes": [],
            "description": "",
            "_model_name": "HTMLModel",
            "placeholder": "​",
            "_view_module": "@jupyter-widgets/controls",
            "_model_module_version": "1.5.0",
            "value": " 85%",
            "_view_count": null,
            "_view_module_version": "1.5.0",
            "description_tooltip": null,
            "_model_module": "@jupyter-widgets/controls",
            "layout": "IPY_MODEL_6fb3aaa9932643d88226fd09564b15d7"
          }
        },
        "1d8e21c155d24056a65d963d322ddad5": {
          "model_module": "@jupyter-widgets/controls",
          "model_name": "FloatProgressModel",
          "model_module_version": "1.5.0",
          "state": {
            "_view_name": "ProgressView",
            "style": "IPY_MODEL_e0587bd19dde4897b8041d38191f9931",
            "_dom_classes": [],
            "description": "",
            "_model_name": "FloatProgressModel",
            "bar_style": "",
            "max": 268914,
            "_view_module": "@jupyter-widgets/controls",
            "_model_module_version": "1.5.0",
            "value": 227712,
            "_view_count": null,
            "_view_module_version": "1.5.0",
            "orientation": "horizontal",
            "min": 0,
            "description_tooltip": null,
            "_model_module": "@jupyter-widgets/controls",
            "layout": "IPY_MODEL_94d03c3ecc0d438c8a97e88b4509e19a"
          }
        },
        "8b897f6612f5468a81aae41ed5bcc202": {
          "model_module": "@jupyter-widgets/controls",
          "model_name": "HTMLModel",
          "model_module_version": "1.5.0",
          "state": {
            "_view_name": "HTMLView",
            "style": "IPY_MODEL_99203977db194546afdc146bb60e17ba",
            "_dom_classes": [],
            "description": "",
            "_model_name": "HTMLModel",
            "placeholder": "​",
            "_view_module": "@jupyter-widgets/controls",
            "_model_module_version": "1.5.0",
            "value": " 227712/268914 [00:56&lt;00:12, 3325.60it/s]",
            "_view_count": null,
            "_view_module_version": "1.5.0",
            "description_tooltip": null,
            "_model_module": "@jupyter-widgets/controls",
            "layout": "IPY_MODEL_f01d813786894377a1da9a0fd15789f1"
          }
        },
        "830b097530b2478ebb21933e75518d28": {
          "model_module": "@jupyter-widgets/controls",
          "model_name": "DescriptionStyleModel",
          "model_module_version": "1.5.0",
          "state": {
            "_view_name": "StyleView",
            "_model_name": "DescriptionStyleModel",
            "description_width": "",
            "_view_module": "@jupyter-widgets/base",
            "_model_module_version": "1.5.0",
            "_view_count": null,
            "_view_module_version": "1.2.0",
            "_model_module": "@jupyter-widgets/controls"
          }
        },
        "6fb3aaa9932643d88226fd09564b15d7": {
          "model_module": "@jupyter-widgets/base",
          "model_name": "LayoutModel",
          "model_module_version": "1.2.0",
          "state": {
            "_view_name": "LayoutView",
            "grid_template_rows": null,
            "right": null,
            "justify_content": null,
            "_view_module": "@jupyter-widgets/base",
            "overflow": null,
            "_model_module_version": "1.2.0",
            "_view_count": null,
            "flex_flow": null,
            "width": null,
            "min_width": null,
            "border": null,
            "align_items": null,
            "bottom": null,
            "_model_module": "@jupyter-widgets/base",
            "top": null,
            "grid_column": null,
            "overflow_y": null,
            "overflow_x": null,
            "grid_auto_flow": null,
            "grid_area": null,
            "grid_template_columns": null,
            "flex": null,
            "_model_name": "LayoutModel",
            "justify_items": null,
            "grid_row": null,
            "max_height": null,
            "align_content": null,
            "visibility": null,
            "align_self": null,
            "height": null,
            "min_height": null,
            "padding": null,
            "grid_auto_rows": null,
            "grid_gap": null,
            "max_width": null,
            "order": null,
            "_view_module_version": "1.2.0",
            "grid_template_areas": null,
            "object_position": null,
            "object_fit": null,
            "grid_auto_columns": null,
            "margin": null,
            "display": null,
            "left": null
          }
        },
        "e0587bd19dde4897b8041d38191f9931": {
          "model_module": "@jupyter-widgets/controls",
          "model_name": "ProgressStyleModel",
          "model_module_version": "1.5.0",
          "state": {
            "_view_name": "StyleView",
            "_model_name": "ProgressStyleModel",
            "description_width": "",
            "_view_module": "@jupyter-widgets/base",
            "_model_module_version": "1.5.0",
            "_view_count": null,
            "_view_module_version": "1.2.0",
            "bar_color": null,
            "_model_module": "@jupyter-widgets/controls"
          }
        },
        "94d03c3ecc0d438c8a97e88b4509e19a": {
          "model_module": "@jupyter-widgets/base",
          "model_name": "LayoutModel",
          "model_module_version": "1.2.0",
          "state": {
            "_view_name": "LayoutView",
            "grid_template_rows": null,
            "right": null,
            "justify_content": null,
            "_view_module": "@jupyter-widgets/base",
            "overflow": null,
            "_model_module_version": "1.2.0",
            "_view_count": null,
            "flex_flow": null,
            "width": null,
            "min_width": null,
            "border": null,
            "align_items": null,
            "bottom": null,
            "_model_module": "@jupyter-widgets/base",
            "top": null,
            "grid_column": null,
            "overflow_y": null,
            "overflow_x": null,
            "grid_auto_flow": null,
            "grid_area": null,
            "grid_template_columns": null,
            "flex": null,
            "_model_name": "LayoutModel",
            "justify_items": null,
            "grid_row": null,
            "max_height": null,
            "align_content": null,
            "visibility": null,
            "align_self": null,
            "height": null,
            "min_height": null,
            "padding": null,
            "grid_auto_rows": null,
            "grid_gap": null,
            "max_width": null,
            "order": null,
            "_view_module_version": "1.2.0",
            "grid_template_areas": null,
            "object_position": null,
            "object_fit": null,
            "grid_auto_columns": null,
            "margin": null,
            "display": null,
            "left": null
          }
        },
        "99203977db194546afdc146bb60e17ba": {
          "model_module": "@jupyter-widgets/controls",
          "model_name": "DescriptionStyleModel",
          "model_module_version": "1.5.0",
          "state": {
            "_view_name": "StyleView",
            "_model_name": "DescriptionStyleModel",
            "description_width": "",
            "_view_module": "@jupyter-widgets/base",
            "_model_module_version": "1.5.0",
            "_view_count": null,
            "_view_module_version": "1.2.0",
            "_model_module": "@jupyter-widgets/controls"
          }
        },
        "f01d813786894377a1da9a0fd15789f1": {
          "model_module": "@jupyter-widgets/base",
          "model_name": "LayoutModel",
          "model_module_version": "1.2.0",
          "state": {
            "_view_name": "LayoutView",
            "grid_template_rows": null,
            "right": null,
            "justify_content": null,
            "_view_module": "@jupyter-widgets/base",
            "overflow": null,
            "_model_module_version": "1.2.0",
            "_view_count": null,
            "flex_flow": null,
            "width": null,
            "min_width": null,
            "border": null,
            "align_items": null,
            "bottom": null,
            "_model_module": "@jupyter-widgets/base",
            "top": null,
            "grid_column": null,
            "overflow_y": null,
            "overflow_x": null,
            "grid_auto_flow": null,
            "grid_area": null,
            "grid_template_columns": null,
            "flex": null,
            "_model_name": "LayoutModel",
            "justify_items": null,
            "grid_row": null,
            "max_height": null,
            "align_content": null,
            "visibility": null,
            "align_self": null,
            "height": null,
            "min_height": null,
            "padding": null,
            "grid_auto_rows": null,
            "grid_gap": null,
            "max_width": null,
            "order": null,
            "_view_module_version": "1.2.0",
            "grid_template_areas": null,
            "object_position": null,
            "object_fit": null,
            "grid_auto_columns": null,
            "margin": null,
            "display": null,
            "left": null
          }
        },
        "2e463ee98d6e4df1b8d9bbaa3d4afae3": {
          "model_module": "@jupyter-widgets/controls",
          "model_name": "HBoxModel",
          "model_module_version": "1.5.0",
          "state": {
            "_view_name": "HBoxView",
            "_dom_classes": [],
            "_model_name": "HBoxModel",
            "_view_module": "@jupyter-widgets/controls",
            "_model_module_version": "1.5.0",
            "_view_count": null,
            "_view_module_version": "1.5.0",
            "box_style": "",
            "layout": "IPY_MODEL_e2efb06927c84aa198f2c48f082f285d",
            "_model_module": "@jupyter-widgets/controls",
            "children": [
              "IPY_MODEL_be2fb8d07162435f91546b795bcd55bb",
              "IPY_MODEL_a0f15e871e5344a18a984775fc6c4469",
              "IPY_MODEL_2effc9f7fbb84c188efab50186e5db4c"
            ]
          }
        },
        "e2efb06927c84aa198f2c48f082f285d": {
          "model_module": "@jupyter-widgets/base",
          "model_name": "LayoutModel",
          "model_module_version": "1.2.0",
          "state": {
            "_view_name": "LayoutView",
            "grid_template_rows": null,
            "right": null,
            "justify_content": null,
            "_view_module": "@jupyter-widgets/base",
            "overflow": null,
            "_model_module_version": "1.2.0",
            "_view_count": null,
            "flex_flow": null,
            "width": null,
            "min_width": null,
            "border": null,
            "align_items": null,
            "bottom": null,
            "_model_module": "@jupyter-widgets/base",
            "top": null,
            "grid_column": null,
            "overflow_y": null,
            "overflow_x": null,
            "grid_auto_flow": null,
            "grid_area": null,
            "grid_template_columns": null,
            "flex": null,
            "_model_name": "LayoutModel",
            "justify_items": null,
            "grid_row": null,
            "max_height": null,
            "align_content": null,
            "visibility": null,
            "align_self": null,
            "height": null,
            "min_height": null,
            "padding": null,
            "grid_auto_rows": null,
            "grid_gap": null,
            "max_width": null,
            "order": null,
            "_view_module_version": "1.2.0",
            "grid_template_areas": null,
            "object_position": null,
            "object_fit": null,
            "grid_auto_columns": null,
            "margin": null,
            "display": null,
            "left": null
          }
        },
        "be2fb8d07162435f91546b795bcd55bb": {
          "model_module": "@jupyter-widgets/controls",
          "model_name": "HTMLModel",
          "model_module_version": "1.5.0",
          "state": {
            "_view_name": "HTMLView",
            "style": "IPY_MODEL_53ab70917d1f4880982b9bb6d2eb5fef",
            "_dom_classes": [],
            "description": "",
            "_model_name": "HTMLModel",
            "placeholder": "​",
            "_view_module": "@jupyter-widgets/controls",
            "_model_module_version": "1.5.0",
            "value": "100%",
            "_view_count": null,
            "_view_module_version": "1.5.0",
            "description_tooltip": null,
            "_model_module": "@jupyter-widgets/controls",
            "layout": "IPY_MODEL_1d202e0079b94b96a319e60ca0bcf5f9"
          }
        },
        "a0f15e871e5344a18a984775fc6c4469": {
          "model_module": "@jupyter-widgets/controls",
          "model_name": "FloatProgressModel",
          "model_module_version": "1.5.0",
          "state": {
            "_view_name": "ProgressView",
            "style": "IPY_MODEL_d0e51e954bb84ebb861325db4f5e81e8",
            "_dom_classes": [],
            "description": "",
            "_model_name": "FloatProgressModel",
            "bar_style": "success",
            "max": 268914,
            "_view_module": "@jupyter-widgets/controls",
            "_model_module_version": "1.5.0",
            "value": 268914,
            "_view_count": null,
            "_view_module_version": "1.5.0",
            "orientation": "horizontal",
            "min": 0,
            "description_tooltip": null,
            "_model_module": "@jupyter-widgets/controls",
            "layout": "IPY_MODEL_c9a39873ba194c67a776141e6fd3df26"
          }
        },
        "2effc9f7fbb84c188efab50186e5db4c": {
          "model_module": "@jupyter-widgets/controls",
          "model_name": "HTMLModel",
          "model_module_version": "1.5.0",
          "state": {
            "_view_name": "HTMLView",
            "style": "IPY_MODEL_3ab349eb1523462da69cb644e08ddd21",
            "_dom_classes": [],
            "description": "",
            "_model_name": "HTMLModel",
            "placeholder": "​",
            "_view_module": "@jupyter-widgets/controls",
            "_model_module_version": "1.5.0",
            "value": " 268914/268914 [18:40&lt;00:00, 927.25it/s]",
            "_view_count": null,
            "_view_module_version": "1.5.0",
            "description_tooltip": null,
            "_model_module": "@jupyter-widgets/controls",
            "layout": "IPY_MODEL_377ee268a73f4e01b6722023a0da0c72"
          }
        },
        "53ab70917d1f4880982b9bb6d2eb5fef": {
          "model_module": "@jupyter-widgets/controls",
          "model_name": "DescriptionStyleModel",
          "model_module_version": "1.5.0",
          "state": {
            "_view_name": "StyleView",
            "_model_name": "DescriptionStyleModel",
            "description_width": "",
            "_view_module": "@jupyter-widgets/base",
            "_model_module_version": "1.5.0",
            "_view_count": null,
            "_view_module_version": "1.2.0",
            "_model_module": "@jupyter-widgets/controls"
          }
        },
        "1d202e0079b94b96a319e60ca0bcf5f9": {
          "model_module": "@jupyter-widgets/base",
          "model_name": "LayoutModel",
          "model_module_version": "1.2.0",
          "state": {
            "_view_name": "LayoutView",
            "grid_template_rows": null,
            "right": null,
            "justify_content": null,
            "_view_module": "@jupyter-widgets/base",
            "overflow": null,
            "_model_module_version": "1.2.0",
            "_view_count": null,
            "flex_flow": null,
            "width": null,
            "min_width": null,
            "border": null,
            "align_items": null,
            "bottom": null,
            "_model_module": "@jupyter-widgets/base",
            "top": null,
            "grid_column": null,
            "overflow_y": null,
            "overflow_x": null,
            "grid_auto_flow": null,
            "grid_area": null,
            "grid_template_columns": null,
            "flex": null,
            "_model_name": "LayoutModel",
            "justify_items": null,
            "grid_row": null,
            "max_height": null,
            "align_content": null,
            "visibility": null,
            "align_self": null,
            "height": null,
            "min_height": null,
            "padding": null,
            "grid_auto_rows": null,
            "grid_gap": null,
            "max_width": null,
            "order": null,
            "_view_module_version": "1.2.0",
            "grid_template_areas": null,
            "object_position": null,
            "object_fit": null,
            "grid_auto_columns": null,
            "margin": null,
            "display": null,
            "left": null
          }
        },
        "d0e51e954bb84ebb861325db4f5e81e8": {
          "model_module": "@jupyter-widgets/controls",
          "model_name": "ProgressStyleModel",
          "model_module_version": "1.5.0",
          "state": {
            "_view_name": "StyleView",
            "_model_name": "ProgressStyleModel",
            "description_width": "",
            "_view_module": "@jupyter-widgets/base",
            "_model_module_version": "1.5.0",
            "_view_count": null,
            "_view_module_version": "1.2.0",
            "bar_color": null,
            "_model_module": "@jupyter-widgets/controls"
          }
        },
        "c9a39873ba194c67a776141e6fd3df26": {
          "model_module": "@jupyter-widgets/base",
          "model_name": "LayoutModel",
          "model_module_version": "1.2.0",
          "state": {
            "_view_name": "LayoutView",
            "grid_template_rows": null,
            "right": null,
            "justify_content": null,
            "_view_module": "@jupyter-widgets/base",
            "overflow": null,
            "_model_module_version": "1.2.0",
            "_view_count": null,
            "flex_flow": null,
            "width": null,
            "min_width": null,
            "border": null,
            "align_items": null,
            "bottom": null,
            "_model_module": "@jupyter-widgets/base",
            "top": null,
            "grid_column": null,
            "overflow_y": null,
            "overflow_x": null,
            "grid_auto_flow": null,
            "grid_area": null,
            "grid_template_columns": null,
            "flex": null,
            "_model_name": "LayoutModel",
            "justify_items": null,
            "grid_row": null,
            "max_height": null,
            "align_content": null,
            "visibility": null,
            "align_self": null,
            "height": null,
            "min_height": null,
            "padding": null,
            "grid_auto_rows": null,
            "grid_gap": null,
            "max_width": null,
            "order": null,
            "_view_module_version": "1.2.0",
            "grid_template_areas": null,
            "object_position": null,
            "object_fit": null,
            "grid_auto_columns": null,
            "margin": null,
            "display": null,
            "left": null
          }
        },
        "3ab349eb1523462da69cb644e08ddd21": {
          "model_module": "@jupyter-widgets/controls",
          "model_name": "DescriptionStyleModel",
          "model_module_version": "1.5.0",
          "state": {
            "_view_name": "StyleView",
            "_model_name": "DescriptionStyleModel",
            "description_width": "",
            "_view_module": "@jupyter-widgets/base",
            "_model_module_version": "1.5.0",
            "_view_count": null,
            "_view_module_version": "1.2.0",
            "_model_module": "@jupyter-widgets/controls"
          }
        },
        "377ee268a73f4e01b6722023a0da0c72": {
          "model_module": "@jupyter-widgets/base",
          "model_name": "LayoutModel",
          "model_module_version": "1.2.0",
          "state": {
            "_view_name": "LayoutView",
            "grid_template_rows": null,
            "right": null,
            "justify_content": null,
            "_view_module": "@jupyter-widgets/base",
            "overflow": null,
            "_model_module_version": "1.2.0",
            "_view_count": null,
            "flex_flow": null,
            "width": null,
            "min_width": null,
            "border": null,
            "align_items": null,
            "bottom": null,
            "_model_module": "@jupyter-widgets/base",
            "top": null,
            "grid_column": null,
            "overflow_y": null,
            "overflow_x": null,
            "grid_auto_flow": null,
            "grid_area": null,
            "grid_template_columns": null,
            "flex": null,
            "_model_name": "LayoutModel",
            "justify_items": null,
            "grid_row": null,
            "max_height": null,
            "align_content": null,
            "visibility": null,
            "align_self": null,
            "height": null,
            "min_height": null,
            "padding": null,
            "grid_auto_rows": null,
            "grid_gap": null,
            "max_width": null,
            "order": null,
            "_view_module_version": "1.2.0",
            "grid_template_areas": null,
            "object_position": null,
            "object_fit": null,
            "grid_auto_columns": null,
            "margin": null,
            "display": null,
            "left": null
          }
        },
        "0aadc1f2f5e64bf894f67b74bd8499bd": {
          "model_module": "@jupyter-widgets/controls",
          "model_name": "HBoxModel",
          "model_module_version": "1.5.0",
          "state": {
            "_view_name": "HBoxView",
            "_dom_classes": [],
            "_model_name": "HBoxModel",
            "_view_module": "@jupyter-widgets/controls",
            "_model_module_version": "1.5.0",
            "_view_count": null,
            "_view_module_version": "1.5.0",
            "box_style": "",
            "layout": "IPY_MODEL_5e0ac5e0b8e44bf8a250522e6a424225",
            "_model_module": "@jupyter-widgets/controls",
            "children": [
              "IPY_MODEL_6d49b1f37340496790b63fa2f497ebbd",
              "IPY_MODEL_5150c78a3f1744659c107edc90298f64",
              "IPY_MODEL_e331bb10e2ca4e40bfde9a9ab5490415"
            ]
          }
        },
        "5e0ac5e0b8e44bf8a250522e6a424225": {
          "model_module": "@jupyter-widgets/base",
          "model_name": "LayoutModel",
          "model_module_version": "1.2.0",
          "state": {
            "_view_name": "LayoutView",
            "grid_template_rows": null,
            "right": null,
            "justify_content": null,
            "_view_module": "@jupyter-widgets/base",
            "overflow": null,
            "_model_module_version": "1.2.0",
            "_view_count": null,
            "flex_flow": null,
            "width": null,
            "min_width": null,
            "border": null,
            "align_items": null,
            "bottom": null,
            "_model_module": "@jupyter-widgets/base",
            "top": null,
            "grid_column": null,
            "overflow_y": null,
            "overflow_x": null,
            "grid_auto_flow": null,
            "grid_area": null,
            "grid_template_columns": null,
            "flex": null,
            "_model_name": "LayoutModel",
            "justify_items": null,
            "grid_row": null,
            "max_height": null,
            "align_content": null,
            "visibility": null,
            "align_self": null,
            "height": null,
            "min_height": null,
            "padding": null,
            "grid_auto_rows": null,
            "grid_gap": null,
            "max_width": null,
            "order": null,
            "_view_module_version": "1.2.0",
            "grid_template_areas": null,
            "object_position": null,
            "object_fit": null,
            "grid_auto_columns": null,
            "margin": null,
            "display": null,
            "left": null
          }
        },
        "6d49b1f37340496790b63fa2f497ebbd": {
          "model_module": "@jupyter-widgets/controls",
          "model_name": "HTMLModel",
          "model_module_version": "1.5.0",
          "state": {
            "_view_name": "HTMLView",
            "style": "IPY_MODEL_7ab9afc618ee4d39b3c555b907d56bfc",
            "_dom_classes": [],
            "description": "",
            "_model_name": "HTMLModel",
            "placeholder": "​",
            "_view_module": "@jupyter-widgets/controls",
            "_model_module_version": "1.5.0",
            "value": "100%",
            "_view_count": null,
            "_view_module_version": "1.5.0",
            "description_tooltip": null,
            "_model_module": "@jupyter-widgets/controls",
            "layout": "IPY_MODEL_be805debd4d445dbabb16e951ef8d092"
          }
        },
        "5150c78a3f1744659c107edc90298f64": {
          "model_module": "@jupyter-widgets/controls",
          "model_name": "FloatProgressModel",
          "model_module_version": "1.5.0",
          "state": {
            "_view_name": "ProgressView",
            "style": "IPY_MODEL_7a46962f59ff4189acc5cfe570039fe8",
            "_dom_classes": [],
            "description": "",
            "_model_name": "FloatProgressModel",
            "bar_style": "success",
            "max": 386,
            "_view_module": "@jupyter-widgets/controls",
            "_model_module_version": "1.5.0",
            "value": 386,
            "_view_count": null,
            "_view_module_version": "1.5.0",
            "orientation": "horizontal",
            "min": 0,
            "description_tooltip": null,
            "_model_module": "@jupyter-widgets/controls",
            "layout": "IPY_MODEL_d4719f9d2ee648828707400cceb52d35"
          }
        },
        "e331bb10e2ca4e40bfde9a9ab5490415": {
          "model_module": "@jupyter-widgets/controls",
          "model_name": "HTMLModel",
          "model_module_version": "1.5.0",
          "state": {
            "_view_name": "HTMLView",
            "style": "IPY_MODEL_14866f162466496b965e0ff5d8acdec1",
            "_dom_classes": [],
            "description": "",
            "_model_name": "HTMLModel",
            "placeholder": "​",
            "_view_module": "@jupyter-widgets/controls",
            "_model_module_version": "1.5.0",
            "value": " 386/386 [00:00&lt;00:00, 7235.11it/s]",
            "_view_count": null,
            "_view_module_version": "1.5.0",
            "description_tooltip": null,
            "_model_module": "@jupyter-widgets/controls",
            "layout": "IPY_MODEL_4b77a67a221a41c28b27797e0d4593af"
          }
        },
        "7ab9afc618ee4d39b3c555b907d56bfc": {
          "model_module": "@jupyter-widgets/controls",
          "model_name": "DescriptionStyleModel",
          "model_module_version": "1.5.0",
          "state": {
            "_view_name": "StyleView",
            "_model_name": "DescriptionStyleModel",
            "description_width": "",
            "_view_module": "@jupyter-widgets/base",
            "_model_module_version": "1.5.0",
            "_view_count": null,
            "_view_module_version": "1.2.0",
            "_model_module": "@jupyter-widgets/controls"
          }
        },
        "be805debd4d445dbabb16e951ef8d092": {
          "model_module": "@jupyter-widgets/base",
          "model_name": "LayoutModel",
          "model_module_version": "1.2.0",
          "state": {
            "_view_name": "LayoutView",
            "grid_template_rows": null,
            "right": null,
            "justify_content": null,
            "_view_module": "@jupyter-widgets/base",
            "overflow": null,
            "_model_module_version": "1.2.0",
            "_view_count": null,
            "flex_flow": null,
            "width": null,
            "min_width": null,
            "border": null,
            "align_items": null,
            "bottom": null,
            "_model_module": "@jupyter-widgets/base",
            "top": null,
            "grid_column": null,
            "overflow_y": null,
            "overflow_x": null,
            "grid_auto_flow": null,
            "grid_area": null,
            "grid_template_columns": null,
            "flex": null,
            "_model_name": "LayoutModel",
            "justify_items": null,
            "grid_row": null,
            "max_height": null,
            "align_content": null,
            "visibility": null,
            "align_self": null,
            "height": null,
            "min_height": null,
            "padding": null,
            "grid_auto_rows": null,
            "grid_gap": null,
            "max_width": null,
            "order": null,
            "_view_module_version": "1.2.0",
            "grid_template_areas": null,
            "object_position": null,
            "object_fit": null,
            "grid_auto_columns": null,
            "margin": null,
            "display": null,
            "left": null
          }
        },
        "7a46962f59ff4189acc5cfe570039fe8": {
          "model_module": "@jupyter-widgets/controls",
          "model_name": "ProgressStyleModel",
          "model_module_version": "1.5.0",
          "state": {
            "_view_name": "StyleView",
            "_model_name": "ProgressStyleModel",
            "description_width": "",
            "_view_module": "@jupyter-widgets/base",
            "_model_module_version": "1.5.0",
            "_view_count": null,
            "_view_module_version": "1.2.0",
            "bar_color": null,
            "_model_module": "@jupyter-widgets/controls"
          }
        },
        "d4719f9d2ee648828707400cceb52d35": {
          "model_module": "@jupyter-widgets/base",
          "model_name": "LayoutModel",
          "model_module_version": "1.2.0",
          "state": {
            "_view_name": "LayoutView",
            "grid_template_rows": null,
            "right": null,
            "justify_content": null,
            "_view_module": "@jupyter-widgets/base",
            "overflow": null,
            "_model_module_version": "1.2.0",
            "_view_count": null,
            "flex_flow": null,
            "width": null,
            "min_width": null,
            "border": null,
            "align_items": null,
            "bottom": null,
            "_model_module": "@jupyter-widgets/base",
            "top": null,
            "grid_column": null,
            "overflow_y": null,
            "overflow_x": null,
            "grid_auto_flow": null,
            "grid_area": null,
            "grid_template_columns": null,
            "flex": null,
            "_model_name": "LayoutModel",
            "justify_items": null,
            "grid_row": null,
            "max_height": null,
            "align_content": null,
            "visibility": null,
            "align_self": null,
            "height": null,
            "min_height": null,
            "padding": null,
            "grid_auto_rows": null,
            "grid_gap": null,
            "max_width": null,
            "order": null,
            "_view_module_version": "1.2.0",
            "grid_template_areas": null,
            "object_position": null,
            "object_fit": null,
            "grid_auto_columns": null,
            "margin": null,
            "display": null,
            "left": null
          }
        },
        "14866f162466496b965e0ff5d8acdec1": {
          "model_module": "@jupyter-widgets/controls",
          "model_name": "DescriptionStyleModel",
          "model_module_version": "1.5.0",
          "state": {
            "_view_name": "StyleView",
            "_model_name": "DescriptionStyleModel",
            "description_width": "",
            "_view_module": "@jupyter-widgets/base",
            "_model_module_version": "1.5.0",
            "_view_count": null,
            "_view_module_version": "1.2.0",
            "_model_module": "@jupyter-widgets/controls"
          }
        },
        "4b77a67a221a41c28b27797e0d4593af": {
          "model_module": "@jupyter-widgets/base",
          "model_name": "LayoutModel",
          "model_module_version": "1.2.0",
          "state": {
            "_view_name": "LayoutView",
            "grid_template_rows": null,
            "right": null,
            "justify_content": null,
            "_view_module": "@jupyter-widgets/base",
            "overflow": null,
            "_model_module_version": "1.2.0",
            "_view_count": null,
            "flex_flow": null,
            "width": null,
            "min_width": null,
            "border": null,
            "align_items": null,
            "bottom": null,
            "_model_module": "@jupyter-widgets/base",
            "top": null,
            "grid_column": null,
            "overflow_y": null,
            "overflow_x": null,
            "grid_auto_flow": null,
            "grid_area": null,
            "grid_template_columns": null,
            "flex": null,
            "_model_name": "LayoutModel",
            "justify_items": null,
            "grid_row": null,
            "max_height": null,
            "align_content": null,
            "visibility": null,
            "align_self": null,
            "height": null,
            "min_height": null,
            "padding": null,
            "grid_auto_rows": null,
            "grid_gap": null,
            "max_width": null,
            "order": null,
            "_view_module_version": "1.2.0",
            "grid_template_areas": null,
            "object_position": null,
            "object_fit": null,
            "grid_auto_columns": null,
            "margin": null,
            "display": null,
            "left": null
          }
        },
        "711ce055a04a480dbb709a01394c2423": {
          "model_module": "@jupyter-widgets/controls",
          "model_name": "HBoxModel",
          "model_module_version": "1.5.0",
          "state": {
            "_view_name": "HBoxView",
            "_dom_classes": [],
            "_model_name": "HBoxModel",
            "_view_module": "@jupyter-widgets/controls",
            "_model_module_version": "1.5.0",
            "_view_count": null,
            "_view_module_version": "1.5.0",
            "box_style": "",
            "layout": "IPY_MODEL_ea0ef899d5f44cb997d62c27ed6a78d9",
            "_model_module": "@jupyter-widgets/controls",
            "children": [
              "IPY_MODEL_a1a9bc30898142df85116290ffeaa375",
              "IPY_MODEL_406f36a0f5454515963ffa3f872677e7",
              "IPY_MODEL_fe453726673c43d2affe3b96cc711acd"
            ]
          }
        },
        "ea0ef899d5f44cb997d62c27ed6a78d9": {
          "model_module": "@jupyter-widgets/base",
          "model_name": "LayoutModel",
          "model_module_version": "1.2.0",
          "state": {
            "_view_name": "LayoutView",
            "grid_template_rows": null,
            "right": null,
            "justify_content": null,
            "_view_module": "@jupyter-widgets/base",
            "overflow": null,
            "_model_module_version": "1.2.0",
            "_view_count": null,
            "flex_flow": null,
            "width": null,
            "min_width": null,
            "border": null,
            "align_items": null,
            "bottom": null,
            "_model_module": "@jupyter-widgets/base",
            "top": null,
            "grid_column": null,
            "overflow_y": null,
            "overflow_x": null,
            "grid_auto_flow": null,
            "grid_area": null,
            "grid_template_columns": null,
            "flex": null,
            "_model_name": "LayoutModel",
            "justify_items": null,
            "grid_row": null,
            "max_height": null,
            "align_content": null,
            "visibility": null,
            "align_self": null,
            "height": null,
            "min_height": null,
            "padding": null,
            "grid_auto_rows": null,
            "grid_gap": null,
            "max_width": null,
            "order": null,
            "_view_module_version": "1.2.0",
            "grid_template_areas": null,
            "object_position": null,
            "object_fit": null,
            "grid_auto_columns": null,
            "margin": null,
            "display": null,
            "left": null
          }
        },
        "a1a9bc30898142df85116290ffeaa375": {
          "model_module": "@jupyter-widgets/controls",
          "model_name": "HTMLModel",
          "model_module_version": "1.5.0",
          "state": {
            "_view_name": "HTMLView",
            "style": "IPY_MODEL_83a029ac7b0d4dfa8d1ab7526bdcd6e3",
            "_dom_classes": [],
            "description": "",
            "_model_name": "HTMLModel",
            "placeholder": "​",
            "_view_module": "@jupyter-widgets/controls",
            "_model_module_version": "1.5.0",
            "value": "",
            "_view_count": null,
            "_view_module_version": "1.5.0",
            "description_tooltip": null,
            "_model_module": "@jupyter-widgets/controls",
            "layout": "IPY_MODEL_f6060e0eb38c4b8e8d20d637ee079beb"
          }
        },
        "406f36a0f5454515963ffa3f872677e7": {
          "model_module": "@jupyter-widgets/controls",
          "model_name": "FloatProgressModel",
          "model_module_version": "1.5.0",
          "state": {
            "_view_name": "ProgressView",
            "style": "IPY_MODEL_88466e86067c4dbba289074e9ff748fd",
            "_dom_classes": [],
            "description": "",
            "_model_name": "FloatProgressModel",
            "bar_style": "info",
            "max": 1,
            "_view_module": "@jupyter-widgets/controls",
            "_model_module_version": "1.5.0",
            "value": 1,
            "_view_count": null,
            "_view_module_version": "1.5.0",
            "orientation": "horizontal",
            "min": 0,
            "description_tooltip": null,
            "_model_module": "@jupyter-widgets/controls",
            "layout": "IPY_MODEL_ce2b8e1ae7ce435eb3fe7630c3123d5d"
          }
        },
        "fe453726673c43d2affe3b96cc711acd": {
          "model_module": "@jupyter-widgets/controls",
          "model_name": "HTMLModel",
          "model_module_version": "1.5.0",
          "state": {
            "_view_name": "HTMLView",
            "style": "IPY_MODEL_5c096464f37f4ceaa28095f383a409d6",
            "_dom_classes": [],
            "description": "",
            "_model_name": "HTMLModel",
            "placeholder": "​",
            "_view_module": "@jupyter-widgets/controls",
            "_model_module_version": "1.5.0",
            "value": " 705/? [00:46&lt;00:00, 15.07it/s]",
            "_view_count": null,
            "_view_module_version": "1.5.0",
            "description_tooltip": null,
            "_model_module": "@jupyter-widgets/controls",
            "layout": "IPY_MODEL_1cacbd04dbc94f76a1385e20551f9627"
          }
        },
        "83a029ac7b0d4dfa8d1ab7526bdcd6e3": {
          "model_module": "@jupyter-widgets/controls",
          "model_name": "DescriptionStyleModel",
          "model_module_version": "1.5.0",
          "state": {
            "_view_name": "StyleView",
            "_model_name": "DescriptionStyleModel",
            "description_width": "",
            "_view_module": "@jupyter-widgets/base",
            "_model_module_version": "1.5.0",
            "_view_count": null,
            "_view_module_version": "1.2.0",
            "_model_module": "@jupyter-widgets/controls"
          }
        },
        "f6060e0eb38c4b8e8d20d637ee079beb": {
          "model_module": "@jupyter-widgets/base",
          "model_name": "LayoutModel",
          "model_module_version": "1.2.0",
          "state": {
            "_view_name": "LayoutView",
            "grid_template_rows": null,
            "right": null,
            "justify_content": null,
            "_view_module": "@jupyter-widgets/base",
            "overflow": null,
            "_model_module_version": "1.2.0",
            "_view_count": null,
            "flex_flow": null,
            "width": null,
            "min_width": null,
            "border": null,
            "align_items": null,
            "bottom": null,
            "_model_module": "@jupyter-widgets/base",
            "top": null,
            "grid_column": null,
            "overflow_y": null,
            "overflow_x": null,
            "grid_auto_flow": null,
            "grid_area": null,
            "grid_template_columns": null,
            "flex": null,
            "_model_name": "LayoutModel",
            "justify_items": null,
            "grid_row": null,
            "max_height": null,
            "align_content": null,
            "visibility": null,
            "align_self": null,
            "height": null,
            "min_height": null,
            "padding": null,
            "grid_auto_rows": null,
            "grid_gap": null,
            "max_width": null,
            "order": null,
            "_view_module_version": "1.2.0",
            "grid_template_areas": null,
            "object_position": null,
            "object_fit": null,
            "grid_auto_columns": null,
            "margin": null,
            "display": null,
            "left": null
          }
        },
        "88466e86067c4dbba289074e9ff748fd": {
          "model_module": "@jupyter-widgets/controls",
          "model_name": "ProgressStyleModel",
          "model_module_version": "1.5.0",
          "state": {
            "_view_name": "StyleView",
            "_model_name": "ProgressStyleModel",
            "description_width": "",
            "_view_module": "@jupyter-widgets/base",
            "_model_module_version": "1.5.0",
            "_view_count": null,
            "_view_module_version": "1.2.0",
            "bar_color": null,
            "_model_module": "@jupyter-widgets/controls"
          }
        },
        "ce2b8e1ae7ce435eb3fe7630c3123d5d": {
          "model_module": "@jupyter-widgets/base",
          "model_name": "LayoutModel",
          "model_module_version": "1.2.0",
          "state": {
            "_view_name": "LayoutView",
            "grid_template_rows": null,
            "right": null,
            "justify_content": null,
            "_view_module": "@jupyter-widgets/base",
            "overflow": null,
            "_model_module_version": "1.2.0",
            "_view_count": null,
            "flex_flow": null,
            "width": "20px",
            "min_width": null,
            "border": null,
            "align_items": null,
            "bottom": null,
            "_model_module": "@jupyter-widgets/base",
            "top": null,
            "grid_column": null,
            "overflow_y": null,
            "overflow_x": null,
            "grid_auto_flow": null,
            "grid_area": null,
            "grid_template_columns": null,
            "flex": null,
            "_model_name": "LayoutModel",
            "justify_items": null,
            "grid_row": null,
            "max_height": null,
            "align_content": null,
            "visibility": null,
            "align_self": null,
            "height": null,
            "min_height": null,
            "padding": null,
            "grid_auto_rows": null,
            "grid_gap": null,
            "max_width": null,
            "order": null,
            "_view_module_version": "1.2.0",
            "grid_template_areas": null,
            "object_position": null,
            "object_fit": null,
            "grid_auto_columns": null,
            "margin": null,
            "display": null,
            "left": null
          }
        },
        "5c096464f37f4ceaa28095f383a409d6": {
          "model_module": "@jupyter-widgets/controls",
          "model_name": "DescriptionStyleModel",
          "model_module_version": "1.5.0",
          "state": {
            "_view_name": "StyleView",
            "_model_name": "DescriptionStyleModel",
            "description_width": "",
            "_view_module": "@jupyter-widgets/base",
            "_model_module_version": "1.5.0",
            "_view_count": null,
            "_view_module_version": "1.2.0",
            "_model_module": "@jupyter-widgets/controls"
          }
        },
        "1cacbd04dbc94f76a1385e20551f9627": {
          "model_module": "@jupyter-widgets/base",
          "model_name": "LayoutModel",
          "model_module_version": "1.2.0",
          "state": {
            "_view_name": "LayoutView",
            "grid_template_rows": null,
            "right": null,
            "justify_content": null,
            "_view_module": "@jupyter-widgets/base",
            "overflow": null,
            "_model_module_version": "1.2.0",
            "_view_count": null,
            "flex_flow": null,
            "width": null,
            "min_width": null,
            "border": null,
            "align_items": null,
            "bottom": null,
            "_model_module": "@jupyter-widgets/base",
            "top": null,
            "grid_column": null,
            "overflow_y": null,
            "overflow_x": null,
            "grid_auto_flow": null,
            "grid_area": null,
            "grid_template_columns": null,
            "flex": null,
            "_model_name": "LayoutModel",
            "justify_items": null,
            "grid_row": null,
            "max_height": null,
            "align_content": null,
            "visibility": null,
            "align_self": null,
            "height": null,
            "min_height": null,
            "padding": null,
            "grid_auto_rows": null,
            "grid_gap": null,
            "max_width": null,
            "order": null,
            "_view_module_version": "1.2.0",
            "grid_template_areas": null,
            "object_position": null,
            "object_fit": null,
            "grid_auto_columns": null,
            "margin": null,
            "display": null,
            "left": null
          }
        }
      }
    }
  },
  "cells": [
    {
      "cell_type": "code",
      "metadata": {
        "colab": {
          "base_uri": "https://localhost:8080/",
          "height": 736
        },
        "id": "5YXVTJjt-0R_",
        "outputId": "357fc49d-9f80-4613-cbf3-c71cf2cd2de0"
      },
      "source": [
        "import numpy as np\n",
        "import pandas as pd\n",
        "import matplotlib.pyplot as plt\n",
        "from tqdm.auto import tqdm, trange\n",
        "import nltk\n",
        "nltk.download('punkt')\n",
        "nltk.download('stopwords')\n",
        "import pymorphy2\n",
        "from pymystem3 import Mystem as mystem\n",
        "dt = pd.read_excel(\"/Реестр 327 тыс. деклараций ЕП РФ без 140000-200000.xlsx\", 0)\n",
        "dt.columns = [x.replace(\" \", \"_\") for x in dt.columns]\n",
        "dt"
      ],
      "execution_count": null,
      "outputs": [
        {
          "output_type": "stream",
          "name": "stdout",
          "text": [
            "[nltk_data] Downloading package punkt to /root/nltk_data...\n",
            "[nltk_data]   Package punkt is already up-to-date!\n",
            "[nltk_data] Downloading package stopwords to /root/nltk_data...\n",
            "[nltk_data]   Package stopwords is already up-to-date!\n",
            "Requirement already satisfied: xlrd in /usr/local/lib/python3.7/dist-packages (1.1.0)\n",
            "Requirement already satisfied: pymorphy2 in /usr/local/lib/python3.7/dist-packages (0.9.1)\n",
            "Requirement already satisfied: docopt>=0.6 in /usr/local/lib/python3.7/dist-packages (from pymorphy2) (0.6.2)\n",
            "Requirement already satisfied: pymorphy2-dicts-ru<3.0,>=2.4 in /usr/local/lib/python3.7/dist-packages (from pymorphy2) (2.4.417127.4579844)\n",
            "Requirement already satisfied: dawg-python>=0.7.1 in /usr/local/lib/python3.7/dist-packages (from pymorphy2) (0.7.2)\n"
          ]
        },
        {
          "output_type": "execute_result",
          "data": {
            "text/html": [
              "<div>\n",
              "<style scoped>\n",
              "    .dataframe tbody tr th:only-of-type {\n",
              "        vertical-align: middle;\n",
              "    }\n",
              "\n",
              "    .dataframe tbody tr th {\n",
              "        vertical-align: top;\n",
              "    }\n",
              "\n",
              "    .dataframe thead th {\n",
              "        text-align: right;\n",
              "    }\n",
              "</style>\n",
              "<table border=\"1\" class=\"dataframe\">\n",
              "  <thead>\n",
              "    <tr style=\"text-align: right;\">\n",
              "      <th></th>\n",
              "      <th>id</th>\n",
              "      <th>Общее_наименование_продукции</th>\n",
              "      <th>Раздел_ЕП_РФ_(Код_из_ФГИС_ФСА_для_подкатегории_продукции)</th>\n",
              "      <th>Подкатегория_продукции</th>\n",
              "    </tr>\n",
              "  </thead>\n",
              "  <tbody>\n",
              "    <tr>\n",
              "      <th>0</th>\n",
              "      <td>1</td>\n",
              "      <td>Парацетамол таблетки 500 мг 10 шт., упаковки я...</td>\n",
              "      <td>9300.1</td>\n",
              "      <td>Лекарственные средства, зарегистрированные в у...</td>\n",
              "    </tr>\n",
              "    <tr>\n",
              "      <th>1</th>\n",
              "      <td>2</td>\n",
              "      <td>Перезаряжаемая литий-ионная батарея торговой м...</td>\n",
              "      <td>3482.2</td>\n",
              "      <td>Аккумуляторы и аккумуляторные батареи никель-м...</td>\n",
              "    </tr>\n",
              "    <tr>\n",
              "      <th>2</th>\n",
              "      <td>3</td>\n",
              "      <td>Перезаряжаемая литий-ионная батарея торговой м...</td>\n",
              "      <td>3482.2</td>\n",
              "      <td>Аккумуляторы и аккумуляторные батареи никель-м...</td>\n",
              "    </tr>\n",
              "    <tr>\n",
              "      <th>3</th>\n",
              "      <td>4</td>\n",
              "      <td>Аппарат вакуумно-лазерной терапии стоматологич...</td>\n",
              "      <td>9444.4</td>\n",
              "      <td>Приборы и аппараты для электролечения высокоча...</td>\n",
              "    </tr>\n",
              "    <tr>\n",
              "      <th>4</th>\n",
              "      <td>5</td>\n",
              "      <td>Блоки оконные и балконные дверные из алюминиев...</td>\n",
              "      <td>5270.1</td>\n",
              "      <td>Блоки оконные и балконные дверные из алюминиев...</td>\n",
              "    </tr>\n",
              "    <tr>\n",
              "      <th>...</th>\n",
              "      <td>...</td>\n",
              "      <td>...</td>\n",
              "      <td>...</td>\n",
              "      <td>...</td>\n",
              "    </tr>\n",
              "    <tr>\n",
              "      <th>267679</th>\n",
              "      <td>327680</td>\n",
              "      <td>Выключатели вакуумные серии ВР1, на номинально...</td>\n",
              "      <td>3414.8</td>\n",
              "      <td>Выключатели силовые</td>\n",
              "    </tr>\n",
              "    <tr>\n",
              "      <th>267680</th>\n",
              "      <td>327681</td>\n",
              "      <td>Виниловые обои на флизелиновой основе</td>\n",
              "      <td>5460.1</td>\n",
              "      <td>Обои</td>\n",
              "    </tr>\n",
              "    <tr>\n",
              "      <th>267681</th>\n",
              "      <td>327682</td>\n",
              "      <td>Смеси бетонные</td>\n",
              "      <td>2364.1</td>\n",
              "      <td>Смеси строительные</td>\n",
              "    </tr>\n",
              "    <tr>\n",
              "      <th>267682</th>\n",
              "      <td>327683</td>\n",
              "      <td>Кормовая добавка для животных</td>\n",
              "      <td>9296.1</td>\n",
              "      <td>Комбикорма и добавки белково-витаминные для не...</td>\n",
              "    </tr>\n",
              "    <tr>\n",
              "      <th>267683</th>\n",
              "      <td>327684</td>\n",
              "      <td>Посуда алюминиевая литая (кроме посуды для дет...</td>\n",
              "      <td>9695.1</td>\n",
              "      <td>Посуда алюминиевая литая (кроме посуды для дет...</td>\n",
              "    </tr>\n",
              "  </tbody>\n",
              "</table>\n",
              "<p>267684 rows × 4 columns</p>\n",
              "</div>"
            ],
            "text/plain": [
              "            id  ...                             Подкатегория_продукции\n",
              "0            1  ...  Лекарственные средства, зарегистрированные в у...\n",
              "1            2  ...  Аккумуляторы и аккумуляторные батареи никель-м...\n",
              "2            3  ...  Аккумуляторы и аккумуляторные батареи никель-м...\n",
              "3            4  ...  Приборы и аппараты для электролечения высокоча...\n",
              "4            5  ...  Блоки оконные и балконные дверные из алюминиев...\n",
              "...        ...  ...                                                ...\n",
              "267679  327680  ...                                Выключатели силовые\n",
              "267680  327681  ...                                               Обои\n",
              "267681  327682  ...                                 Смеси строительные\n",
              "267682  327683  ...  Комбикорма и добавки белково-витаминные для не...\n",
              "267683  327684  ...  Посуда алюминиевая литая (кроме посуды для дет...\n",
              "\n",
              "[267684 rows x 4 columns]"
            ]
          },
          "metadata": {},
          "execution_count": 9
        }
      ]
    },
    {
      "cell_type": "code",
      "metadata": {
        "id": "reHBzVEgNlJ5"
      },
      "source": [
        "def razb(txt, sp):\n",
        "  for i in range(txt.count(\";\")):\n",
        "    id = txt.index(\";\")\n",
        "    sp.append(txt[:id])\n",
        "    txt = txt[id+2:]\n",
        "  sp.append(txt)\n",
        "  return sp\n",
        "\n",
        "dop_sp = []\n",
        "delet = []\n",
        "n, m = dt.shape\n",
        "for i in range(n):\n",
        "  if \";\" in dt.iloc[i, 2]:\n",
        "    delet.append(i)\n",
        "    nu = []\n",
        "    st = []\n",
        "    razb(dt.iloc[i, 2], nu)\n",
        "    razb(dt.iloc[i, 3], st)\n",
        "    for j in range(len(nu)):\n",
        "        dop_sp.append([dt.iloc[i, 0], dt.iloc[i, 1], nu[j], st[j]])\n",
        "for k in dop_sp:\n",
        "  dt.loc[len(dt.index)] = k\n",
        "for el in delet[::-1]:\n",
        "  dt = dt.drop(el)"
      ],
      "execution_count": null,
      "outputs": []
    },
    {
      "cell_type": "code",
      "metadata": {
        "colab": {
          "base_uri": "https://localhost:8080/",
          "height": 536
        },
        "id": "ZOvEcUwuXLHp",
        "outputId": "fa1086f5-561c-4586-9055-2e9745a21d45"
      },
      "source": [
        "dt.iloc[10:20]"
      ],
      "execution_count": null,
      "outputs": [
        {
          "output_type": "execute_result",
          "data": {
            "text/html": [
              "<div>\n",
              "<style scoped>\n",
              "    .dataframe tbody tr th:only-of-type {\n",
              "        vertical-align: middle;\n",
              "    }\n",
              "\n",
              "    .dataframe tbody tr th {\n",
              "        vertical-align: top;\n",
              "    }\n",
              "\n",
              "    .dataframe thead th {\n",
              "        text-align: right;\n",
              "    }\n",
              "</style>\n",
              "<table border=\"1\" class=\"dataframe\">\n",
              "  <thead>\n",
              "    <tr style=\"text-align: right;\">\n",
              "      <th></th>\n",
              "      <th>id</th>\n",
              "      <th>Общее_наименование_продукции</th>\n",
              "      <th>Раздел_ЕП_РФ_(Код_из_ФГИС_ФСА_для_подкатегории_продукции)</th>\n",
              "      <th>Подкатегория_продукции</th>\n",
              "    </tr>\n",
              "  </thead>\n",
              "  <tbody>\n",
              "    <tr>\n",
              "      <th>10</th>\n",
              "      <td>11</td>\n",
              "      <td>лекарственное средство: ФУРАЦИЛИН, таблетки дл...</td>\n",
              "      <td>9300.1</td>\n",
              "      <td>Лекарственные средства, зарегистрированные в у...</td>\n",
              "    </tr>\n",
              "    <tr>\n",
              "      <th>11</th>\n",
              "      <td>12</td>\n",
              "      <td>лекарственное средство: ФУРАЦИЛИН, таблетки дл...</td>\n",
              "      <td>9300.1</td>\n",
              "      <td>Лекарственные средства, зарегистрированные в у...</td>\n",
              "    </tr>\n",
              "    <tr>\n",
              "      <th>12</th>\n",
              "      <td>13</td>\n",
              "      <td>лекарственное средство: ФУРАЦИЛИН, таблетки дл...</td>\n",
              "      <td>9300.1</td>\n",
              "      <td>Лекарственные средства, зарегистрированные в у...</td>\n",
              "    </tr>\n",
              "    <tr>\n",
              "      <th>13</th>\n",
              "      <td>14</td>\n",
              "      <td>лекарственное средство: ФУРАЦИЛИН, таблетки дл...</td>\n",
              "      <td>9300.1</td>\n",
              "      <td>Лекарственные средства, зарегистрированные в у...</td>\n",
              "    </tr>\n",
              "    <tr>\n",
              "      <th>14</th>\n",
              "      <td>15</td>\n",
              "      <td>лекарственное средство: ФУРАЦИЛИН, таблетки дл...</td>\n",
              "      <td>9300.1</td>\n",
              "      <td>Лекарственные средства, зарегистрированные в у...</td>\n",
              "    </tr>\n",
              "    <tr>\n",
              "      <th>15</th>\n",
              "      <td>16</td>\n",
              "      <td>лекарственное средство: ФУРАЦИЛИН, таблетки дл...</td>\n",
              "      <td>9300.1</td>\n",
              "      <td>Лекарственные средства, зарегистрированные в у...</td>\n",
              "    </tr>\n",
              "    <tr>\n",
              "      <th>16</th>\n",
              "      <td>17</td>\n",
              "      <td>Лекарственный препарат Вода для инъекций буфус...</td>\n",
              "      <td>9300.1</td>\n",
              "      <td>Лекарственные средства, зарегистрированные в у...</td>\n",
              "    </tr>\n",
              "    <tr>\n",
              "      <th>17</th>\n",
              "      <td>18</td>\n",
              "      <td>салфетки бумажные сервировочные с маркировкой ...</td>\n",
              "      <td>5463.1</td>\n",
              "      <td>Изделия из бумаги бытового и санитарно-гигиени...</td>\n",
              "    </tr>\n",
              "    <tr>\n",
              "      <th>21</th>\n",
              "      <td>22</td>\n",
              "      <td>Перезаряжаемая литий-ионная батарея торговой м...</td>\n",
              "      <td>3482.2</td>\n",
              "      <td>Аккумуляторы и аккумуляторные батареи никель-м...</td>\n",
              "    </tr>\n",
              "    <tr>\n",
              "      <th>23</th>\n",
              "      <td>24</td>\n",
              "      <td>лекарственное средство: Ацетилсалициловая кисл...</td>\n",
              "      <td>9300.1</td>\n",
              "      <td>Лекарственные средства, зарегистрированные в у...</td>\n",
              "    </tr>\n",
              "  </tbody>\n",
              "</table>\n",
              "</div>"
            ],
            "text/plain": [
              "    id  ...                             Подкатегория_продукции\n",
              "10  11  ...  Лекарственные средства, зарегистрированные в у...\n",
              "11  12  ...  Лекарственные средства, зарегистрированные в у...\n",
              "12  13  ...  Лекарственные средства, зарегистрированные в у...\n",
              "13  14  ...  Лекарственные средства, зарегистрированные в у...\n",
              "14  15  ...  Лекарственные средства, зарегистрированные в у...\n",
              "15  16  ...  Лекарственные средства, зарегистрированные в у...\n",
              "16  17  ...  Лекарственные средства, зарегистрированные в у...\n",
              "17  18  ...  Изделия из бумаги бытового и санитарно-гигиени...\n",
              "21  22  ...  Аккумуляторы и аккумуляторные батареи никель-м...\n",
              "23  24  ...  Лекарственные средства, зарегистрированные в у...\n",
              "\n",
              "[10 rows x 4 columns]"
            ]
          },
          "metadata": {},
          "execution_count": 11
        }
      ]
    },
    {
      "cell_type": "code",
      "metadata": {
        "id": "MEoPeYIwpUrZ"
      },
      "source": [
        "for i in range(n):\n",
        "  if \";\" in dt.iloc[i, 2]:\n",
        "    print(\"!\" + str(i))"
      ],
      "execution_count": null,
      "outputs": []
    },
    {
      "cell_type": "code",
      "metadata": {
        "colab": {
          "base_uri": "https://localhost:8080/",
          "height": 293
        },
        "id": "UCVqB30I2-mu",
        "outputId": "73b14a91-1663-4a9e-bf75-1c9f83033f40"
      },
      "source": [
        "dt_sort = dt.sort_values(\"Подкатегория_продукции\")\n",
        "dt_sort.head()"
      ],
      "execution_count": null,
      "outputs": [
        {
          "output_type": "execute_result",
          "data": {
            "text/html": [
              "<div>\n",
              "<style scoped>\n",
              "    .dataframe tbody tr th:only-of-type {\n",
              "        vertical-align: middle;\n",
              "    }\n",
              "\n",
              "    .dataframe tbody tr th {\n",
              "        vertical-align: top;\n",
              "    }\n",
              "\n",
              "    .dataframe thead th {\n",
              "        text-align: right;\n",
              "    }\n",
              "</style>\n",
              "<table border=\"1\" class=\"dataframe\">\n",
              "  <thead>\n",
              "    <tr style=\"text-align: right;\">\n",
              "      <th></th>\n",
              "      <th>id</th>\n",
              "      <th>Общее_наименование_продукции</th>\n",
              "      <th>Раздел_ЕП_РФ_(Код_из_ФГИС_ФСА_для_подкатегории_продукции)</th>\n",
              "      <th>Подкатегория_продукции</th>\n",
              "    </tr>\n",
              "  </thead>\n",
              "  <tbody>\n",
              "    <tr>\n",
              "      <th>43516</th>\n",
              "      <td>43517</td>\n",
              "      <td>Инвентарь для прикладных видов спорта: Луки сп...</td>\n",
              "      <td>9616.2</td>\n",
              "      <td>Холодное оружие: луки спортивные массовые</td>\n",
              "    </tr>\n",
              "    <tr>\n",
              "      <th>246307</th>\n",
              "      <td>306308</td>\n",
              "      <td>конструктивно сходное с холодным клинковым ору...</td>\n",
              "      <td>9616.3</td>\n",
              "      <td>Холодное оружие: сабли</td>\n",
              "    </tr>\n",
              "    <tr>\n",
              "      <th>252059</th>\n",
              "      <td>312060</td>\n",
              "      <td>Посуда из коррозионно-стойкой стали для взросл...</td>\n",
              "      <td>9616.4</td>\n",
              "      <td>Холодное оружие: шпаги</td>\n",
              "    </tr>\n",
              "    <tr>\n",
              "      <th>224894</th>\n",
              "      <td>284895</td>\n",
              "      <td>Вакуумный выключатель,</td>\n",
              "      <td>9683.1</td>\n",
              "      <td>Автоматические устройства управления бытовыми ...</td>\n",
              "    </tr>\n",
              "    <tr>\n",
              "      <th>244207</th>\n",
              "      <td>304208</td>\n",
              "      <td>Устройства вводно-распределительные для жилых ...</td>\n",
              "      <td>9683.1</td>\n",
              "      <td>Автоматические устройства управления бытовыми ...</td>\n",
              "    </tr>\n",
              "  </tbody>\n",
              "</table>\n",
              "</div>"
            ],
            "text/plain": [
              "            id  ...                             Подкатегория_продукции\n",
              "43516    43517  ...         Холодное оружие: луки спортивные массовые \n",
              "246307  306308  ...                            Холодное оружие: сабли \n",
              "252059  312060  ...                             Холодное оружие: шпаги\n",
              "224894  284895  ...  Автоматические устройства управления бытовыми ...\n",
              "244207  304208  ...  Автоматические устройства управления бытовыми ...\n",
              "\n",
              "[5 rows x 4 columns]"
            ]
          },
          "metadata": {},
          "execution_count": 13
        }
      ]
    },
    {
      "cell_type": "markdown",
      "metadata": {
        "id": "VpxlStx7ch30"
      },
      "source": [
        "Предобработка текста"
      ]
    },
    {
      "cell_type": "code",
      "metadata": {
        "id": "89Qb3KD6coEX",
        "colab": {
          "base_uri": "https://localhost:8080/"
        },
        "outputId": "8c35beec-24e1-450e-f666-e9dd052e43f1"
      },
      "source": [
        "import string\n",
        "def remove_punctuation(text):\n",
        "    return \"\".join([ch if ch not in string.punctuation else ' ' for ch in text])\n",
        "\n",
        "def remove_numbers(text):\n",
        "    return ''.join([i if not i.isdigit() else ' ' for i in text])\n",
        "\n",
        "import re\n",
        "def remove_multiple_spaces(text):\n",
        "\treturn re.sub(r'\\s+', ' ', text, flags=re.I)\n",
        "\n",
        "from nltk.stem import *\n",
        "from nltk.corpus import stopwords\n",
        "from pymystem3 import Mystem\n",
        "from string import punctuation\n",
        "mystem = Mystem() \n",
        "\n",
        "russian_stopwords = stopwords.words(\"russian\")\n",
        "russian_stopwords.extend(['…', '«', '»', '...'])\n",
        "def lemmatize_text(text):\n",
        "    tokens = mystem.lemmatize(text.lower())\n",
        "    tokens = [token for token in tokens if token not in russian_stopwords and token != \" \"]\n",
        "    text = \" \".join(tokens)\n",
        "    return text"
      ],
      "execution_count": null,
      "outputs": [
        {
          "output_type": "stream",
          "name": "stderr",
          "text": [
            "Installing mystem to /root/.local/bin/mystem from http://download.cdn.yandex.net/mystem/mystem-3.1-linux-64bit.tar.gz\n"
          ]
        }
      ]
    },
    {
      "cell_type": "code",
      "metadata": {
        "id": "EKOzPL7Vc5bI",
        "colab": {
          "base_uri": "https://localhost:8080/",
          "height": 434
        },
        "outputId": "418af808-50e0-486b-f986-8d1d7b359c36"
      },
      "source": [
        "preproccessing = lambda text: (remove_multiple_spaces(remove_numbers(remove_punctuation(text))))\n",
        "dt_sort['preproccessed'] = list(map(preproccessing, dt_sort[\"Общее_наименование_продукции\"]))\n",
        "dt_sort.head()"
      ],
      "execution_count": null,
      "outputs": [
        {
          "output_type": "execute_result",
          "data": {
            "text/html": [
              "<div>\n",
              "<style scoped>\n",
              "    .dataframe tbody tr th:only-of-type {\n",
              "        vertical-align: middle;\n",
              "    }\n",
              "\n",
              "    .dataframe tbody tr th {\n",
              "        vertical-align: top;\n",
              "    }\n",
              "\n",
              "    .dataframe thead th {\n",
              "        text-align: right;\n",
              "    }\n",
              "</style>\n",
              "<table border=\"1\" class=\"dataframe\">\n",
              "  <thead>\n",
              "    <tr style=\"text-align: right;\">\n",
              "      <th></th>\n",
              "      <th>id</th>\n",
              "      <th>Общее_наименование_продукции</th>\n",
              "      <th>Раздел_ЕП_РФ_(Код_из_ФГИС_ФСА_для_подкатегории_продукции)</th>\n",
              "      <th>Подкатегория_продукции</th>\n",
              "      <th>preproccessed</th>\n",
              "    </tr>\n",
              "  </thead>\n",
              "  <tbody>\n",
              "    <tr>\n",
              "      <th>43516</th>\n",
              "      <td>43517</td>\n",
              "      <td>Инвентарь для прикладных видов спорта: Луки сп...</td>\n",
              "      <td>9616.2</td>\n",
              "      <td>Холодное оружие: луки спортивные массовые</td>\n",
              "      <td>Инвентарь для прикладных видов спорта Луки спо...</td>\n",
              "    </tr>\n",
              "    <tr>\n",
              "      <th>246307</th>\n",
              "      <td>306308</td>\n",
              "      <td>конструктивно сходное с холодным клинковым ору...</td>\n",
              "      <td>9616.3</td>\n",
              "      <td>Холодное оружие: сабли</td>\n",
              "      <td>конструктивно сходное с холодным клинковым ору...</td>\n",
              "    </tr>\n",
              "    <tr>\n",
              "      <th>252059</th>\n",
              "      <td>312060</td>\n",
              "      <td>Посуда из коррозионно-стойкой стали для взросл...</td>\n",
              "      <td>9616.4</td>\n",
              "      <td>Холодное оружие: шпаги</td>\n",
              "      <td>Посуда из коррозионно стойкой стали для взросл...</td>\n",
              "    </tr>\n",
              "    <tr>\n",
              "      <th>224894</th>\n",
              "      <td>284895</td>\n",
              "      <td>Вакуумный выключатель,</td>\n",
              "      <td>9683.1</td>\n",
              "      <td>Автоматические устройства управления бытовыми ...</td>\n",
              "      <td>Вакуумный выключатель</td>\n",
              "    </tr>\n",
              "    <tr>\n",
              "      <th>244207</th>\n",
              "      <td>304208</td>\n",
              "      <td>Устройства вводно-распределительные для жилых ...</td>\n",
              "      <td>9683.1</td>\n",
              "      <td>Автоматические устройства управления бытовыми ...</td>\n",
              "      <td>Устройства вводно распределительные для жилых ...</td>\n",
              "    </tr>\n",
              "  </tbody>\n",
              "</table>\n",
              "</div>"
            ],
            "text/plain": [
              "            id  ...                                      preproccessed\n",
              "43516    43517  ...  Инвентарь для прикладных видов спорта Луки спо...\n",
              "246307  306308  ...  конструктивно сходное с холодным клинковым ору...\n",
              "252059  312060  ...  Посуда из коррозионно стойкой стали для взросл...\n",
              "224894  284895  ...                             Вакуумный выключатель \n",
              "244207  304208  ...  Устройства вводно распределительные для жилых ...\n",
              "\n",
              "[5 rows x 5 columns]"
            ]
          },
          "metadata": {},
          "execution_count": 15
        }
      ]
    },
    {
      "cell_type": "code",
      "metadata": {
        "colab": {
          "base_uri": "https://localhost:8080/",
          "height": 49,
          "referenced_widgets": [
            "421eeda2d9b14aa9a060c26c8c8a5c95",
            "a0a587d6be6f487e8ea4d72a829219e3",
            "7aa065c6a712481ca835c9514f4c58b9",
            "a76e14bc7f49459b935f4567390d5d38",
            "6c090272d1a1405cb60a6438fae1f072",
            "71c4b8d7074d4a80bd31ed079d8ae7c8",
            "8ceaeb55c6fa4f7e864d461ae9830db4",
            "e5c23947e4bc4c43bc60de0597b80244",
            "deff9d2164ff4ba39a4c5f837b639f1a",
            "07db1d8b052a46e6ace265a13475805b",
            "5a6c8df5b38b47c69cb4f74508430edf"
          ]
        },
        "id": "aA6t38_TdS9w",
        "outputId": "12936e58-44bd-43a3-b688-240bd07ecb54"
      },
      "source": [
        "prep_text = [remove_multiple_spaces(remove_numbers(remove_punctuation(text.lower()))) for text in tqdm(dt_sort[\"Общее_наименование_продукции\"])]"
      ],
      "execution_count": null,
      "outputs": [
        {
          "output_type": "display_data",
          "data": {
            "application/vnd.jupyter.widget-view+json": {
              "model_id": "421eeda2d9b14aa9a060c26c8c8a5c95",
              "version_minor": 0,
              "version_major": 2
            },
            "text/plain": [
              "  0%|          | 0/268914 [00:00<?, ?it/s]"
            ]
          },
          "metadata": {}
        }
      ]
    },
    {
      "cell_type": "code",
      "metadata": {
        "id": "IjI_fcf1dj7w"
      },
      "source": [
        "dt_sort['text_prep'] = prep_text"
      ],
      "execution_count": null,
      "outputs": []
    },
    {
      "cell_type": "markdown",
      "metadata": {
        "id": "ZXfrtBEwa3mK"
      },
      "source": [
        "Стемминг"
      ]
    },
    {
      "cell_type": "code",
      "metadata": {
        "id": "0_3vj-G0pPAQ"
      },
      "source": [
        "from nltk.stem.snowball import SnowballStemmer \n",
        "stemmer = SnowballStemmer(\"russian\") "
      ],
      "execution_count": null,
      "outputs": []
    },
    {
      "cell_type": "code",
      "metadata": {
        "id": "87NzQeIfpQrn"
      },
      "source": [
        "russian_stopwords = stopwords.words(\"russian\")\n",
        "russian_stopwords.extend(['…', '«', '»', '...', 'т.д.', 'т', 'д'])"
      ],
      "execution_count": null,
      "outputs": []
    },
    {
      "cell_type": "code",
      "metadata": {
        "colab": {
          "base_uri": "https://localhost:8080/"
        },
        "id": "Qi18TwOpa7IB",
        "outputId": "4c785b41-a20a-4a18-d31f-a2f9ae12be83"
      },
      "source": [
        "from nltk import word_tokenize\n",
        "text = dt_sort[\"text_prep\"][0]\n",
        "word_tokenize(text)"
      ],
      "execution_count": null,
      "outputs": [
        {
          "output_type": "execute_result",
          "data": {
            "text/plain": [
              "['парацетамол',\n",
              " 'таблетки',\n",
              " 'мг',\n",
              " 'шт',\n",
              " 'упаковки',\n",
              " 'ячейковые',\n",
              " 'контурные',\n",
              " 'пачки',\n",
              " 'картонные',\n",
              " 'рег',\n",
              " '№',\n",
              " 'лс',\n",
              " 'от',\n",
              " 'серия',\n",
              " 'партия',\n",
              " 'упаковок',\n",
              " 'годен',\n",
              " 'до',\n",
              " 'производства',\n",
              " 'оао',\n",
              " 'фармстандарт',\n",
              " 'лексредства',\n",
              " 'инн',\n",
              " 'курская',\n",
              " 'область',\n",
              " 'курск',\n",
              " 'ул',\n",
              " 'я',\n",
              " 'агрегатная',\n",
              " 'а',\n",
              " 'россия',\n",
              " 'код',\n",
              " 'окпд']"
            ]
          },
          "metadata": {},
          "execution_count": 20
        }
      ]
    },
    {
      "cell_type": "code",
      "metadata": {
        "colab": {
          "base_uri": "https://localhost:8080/",
          "height": 49,
          "referenced_widgets": [
            "392916b91f2b4695b6f3c40e9596897b",
            "93598b882bce4ee9ada05edee35d0fe5",
            "926c4062867445f2adeb3ca26504faf0",
            "2128d1b8d4ac4f32a3e3c4f2ec300beb",
            "dab199b09a9b41379e8e872b4caa71d7",
            "e22f6ffc0fa74200a68d4f980eae595c",
            "c69d1ef919fe4caaa18dd445e1cd00ca",
            "3d8502350d3045fc9480c2ed199c1ffb",
            "f4bd951cb30140a5b6ac040f67548353",
            "b83df244f64d4ffdb09b16058cebae92",
            "1973fc209d384e74834d052d8dc0cbe4"
          ]
        },
        "id": "QdXldYzhchcw",
        "outputId": "1bf7bfd5-99a7-4103-edc7-59223ee13d19"
      },
      "source": [
        "from nltk import word_tokenize\n",
        "\n",
        "stemmed_texts_list = []\n",
        "for text in tqdm(dt_sort['text_prep']):\n",
        "    tokens = word_tokenize(text)    \n",
        "    stemmed_tokens = [stemmer.stem(token) for token in tokens if token not in russian_stopwords]\n",
        "    text = \" \".join(stemmed_tokens)\n",
        "    stemmed_texts_list.append(text)\n",
        "\n",
        "dt_sort['text_stem'] = stemmed_texts_list"
      ],
      "execution_count": null,
      "outputs": [
        {
          "output_type": "display_data",
          "data": {
            "application/vnd.jupyter.widget-view+json": {
              "model_id": "392916b91f2b4695b6f3c40e9596897b",
              "version_minor": 0,
              "version_major": 2
            },
            "text/plain": [
              "  0%|          | 0/268914 [00:00<?, ?it/s]"
            ]
          },
          "metadata": {}
        }
      ]
    },
    {
      "cell_type": "code",
      "metadata": {
        "id": "V2DSFmbdrQnY"
      },
      "source": [
        "def remove_stop_words(text):\n",
        "    tokens = word_tokenize(text) \n",
        "    tokens = [token for token in tokens if token not in russian_stopwords and token != ' ']\n",
        "    return \" \".join(tokens)"
      ],
      "execution_count": null,
      "outputs": []
    },
    {
      "cell_type": "code",
      "metadata": {
        "colab": {
          "base_uri": "https://localhost:8080/",
          "height": 49,
          "referenced_widgets": [
            "99db575530c141ca88c37a8ae47474b2",
            "3db9be0d49ee4b16b3fa31dc69ee05f1",
            "cbb1598aa4554f7ab6551b877f117eb8",
            "1d8e21c155d24056a65d963d322ddad5",
            "8b897f6612f5468a81aae41ed5bcc202",
            "830b097530b2478ebb21933e75518d28",
            "6fb3aaa9932643d88226fd09564b15d7",
            "e0587bd19dde4897b8041d38191f9931",
            "94d03c3ecc0d438c8a97e88b4509e19a",
            "99203977db194546afdc146bb60e17ba",
            "f01d813786894377a1da9a0fd15789f1"
          ]
        },
        "id": "JuCLh3FtyS8w",
        "outputId": "cb12c92d-c771-4b54-bb25-8b86ddaf5b4f"
      },
      "source": [
        "from nltk import word_tokenize\n",
        "\n",
        "sw_texts_list = []\n",
        "for text in tqdm(dt_sort['text_prep']):\n",
        "    tokens = word_tokenize(text)    \n",
        "    tokens = [token for token in tokens if token not in russian_stopwords and token != ' ']\n",
        "    text = \" \".join(tokens)\n",
        "    sw_texts_list.append(text)\n",
        "\n",
        "dt_sort ['text_sw'] = sw_texts_list"
      ],
      "execution_count": null,
      "outputs": [
        {
          "output_type": "display_data",
          "data": {
            "application/vnd.jupyter.widget-view+json": {
              "model_id": "99db575530c141ca88c37a8ae47474b2",
              "version_minor": 0,
              "version_major": 2
            },
            "text/plain": [
              "  0%|          | 0/268914 [00:00<?, ?it/s]"
            ]
          },
          "metadata": {}
        }
      ]
    },
    {
      "cell_type": "code",
      "metadata": {
        "id": "kzW7UVrMrVrY"
      },
      "source": [
        "dt_sort.iloc[:, 4:]\n"
      ],
      "execution_count": null,
      "outputs": []
    },
    {
      "cell_type": "markdown",
      "metadata": {
        "id": "q8_U3BvX0mHL"
      },
      "source": [
        "Леммитизация"
      ]
    },
    {
      "cell_type": "code",
      "metadata": {
        "colab": {
          "base_uri": "https://localhost:8080/",
          "height": 49,
          "referenced_widgets": [
            "2e463ee98d6e4df1b8d9bbaa3d4afae3",
            "e2efb06927c84aa198f2c48f082f285d",
            "be2fb8d07162435f91546b795bcd55bb",
            "a0f15e871e5344a18a984775fc6c4469",
            "2effc9f7fbb84c188efab50186e5db4c",
            "53ab70917d1f4880982b9bb6d2eb5fef",
            "1d202e0079b94b96a319e60ca0bcf5f9",
            "d0e51e954bb84ebb861325db4f5e81e8",
            "c9a39873ba194c67a776141e6fd3df26",
            "3ab349eb1523462da69cb644e08ddd21",
            "377ee268a73f4e01b6722023a0da0c72"
          ]
        },
        "id": "EtD4JiSocl2Q",
        "outputId": "2427400d-5d92-4048-9c4e-005c61a40dbb"
      },
      "source": [
        "morph = pymorphy2.MorphAnalyzer()\n",
        "\n",
        "def lemmatize(text):\n",
        "    words = text.split() # разбиваем текст на слова\n",
        "    res = list()\n",
        "    for word in words:\n",
        "        p = morph.parse(word)[0]\n",
        "        res.append(p.normal_form)\n",
        "\n",
        "    return res\n",
        "\n",
        "lem_txt = []\n",
        "for txt in tqdm(dt_sort['text_sw']):\n",
        "  x = lemmatize(txt)\n",
        "  l = \" \".join(x)  \n",
        "  lem_txt.append(l)\n",
        "dt_sort['text_lem'] = lem_txt"
      ],
      "execution_count": null,
      "outputs": [
        {
          "output_type": "display_data",
          "data": {
            "application/vnd.jupyter.widget-view+json": {
              "model_id": "2e463ee98d6e4df1b8d9bbaa3d4afae3",
              "version_minor": 0,
              "version_major": 2
            },
            "text/plain": [
              "  0%|          | 0/268914 [00:00<?, ?it/s]"
            ]
          },
          "metadata": {}
        }
      ]
    },
    {
      "cell_type": "code",
      "metadata": {
        "colab": {
          "base_uri": "https://localhost:8080/",
          "height": 894
        },
        "id": "YXnqNraJyKIw",
        "outputId": "cbdde8e8-9bfa-428b-c2bd-01e6af6652cf"
      },
      "source": [
        "dt_sort"
      ],
      "execution_count": null,
      "outputs": [
        {
          "output_type": "execute_result",
          "data": {
            "text/html": [
              "<div>\n",
              "<style scoped>\n",
              "    .dataframe tbody tr th:only-of-type {\n",
              "        vertical-align: middle;\n",
              "    }\n",
              "\n",
              "    .dataframe tbody tr th {\n",
              "        vertical-align: top;\n",
              "    }\n",
              "\n",
              "    .dataframe thead th {\n",
              "        text-align: right;\n",
              "    }\n",
              "</style>\n",
              "<table border=\"1\" class=\"dataframe\">\n",
              "  <thead>\n",
              "    <tr style=\"text-align: right;\">\n",
              "      <th></th>\n",
              "      <th>id</th>\n",
              "      <th>Общее_наименование_продукции</th>\n",
              "      <th>Раздел_ЕП_РФ_(Код_из_ФГИС_ФСА_для_подкатегории_продукции)</th>\n",
              "      <th>Подкатегория_продукции</th>\n",
              "      <th>preproccessed</th>\n",
              "      <th>text_prep</th>\n",
              "      <th>text_stem</th>\n",
              "      <th>text_sw</th>\n",
              "      <th>text_lem</th>\n",
              "    </tr>\n",
              "  </thead>\n",
              "  <tbody>\n",
              "    <tr>\n",
              "      <th>43516</th>\n",
              "      <td>43517</td>\n",
              "      <td>Инвентарь для прикладных видов спорта: Луки сп...</td>\n",
              "      <td>9616.2</td>\n",
              "      <td>Холодное оружие: луки спортивные массовые</td>\n",
              "      <td>Инвентарь для прикладных видов спорта Луки спо...</td>\n",
              "      <td>инвентарь для прикладных видов спорта луки спо...</td>\n",
              "      <td>инвентар прикладн вид спорт лук спортивн массо...</td>\n",
              "      <td>инвентарь прикладных видов спорта луки спортив...</td>\n",
              "      <td>инвентарь прикладной вид спорт лука спортивный...</td>\n",
              "    </tr>\n",
              "    <tr>\n",
              "      <th>246307</th>\n",
              "      <td>306308</td>\n",
              "      <td>конструктивно сходное с холодным клинковым ору...</td>\n",
              "      <td>9616.3</td>\n",
              "      <td>Холодное оружие: сабли</td>\n",
              "      <td>конструктивно сходное с холодным клинковым ору...</td>\n",
              "      <td>конструктивно сходное с холодным клинковым ору...</td>\n",
              "      <td>конструктивн сходн холодн клинков оруж сувенир...</td>\n",
              "      <td>конструктивно сходное холодным клинковым оружи...</td>\n",
              "      <td>конструктивно сходный холодный клинковый оружи...</td>\n",
              "    </tr>\n",
              "    <tr>\n",
              "      <th>252059</th>\n",
              "      <td>312060</td>\n",
              "      <td>Посуда из коррозионно-стойкой стали для взросл...</td>\n",
              "      <td>9616.4</td>\n",
              "      <td>Холодное оружие: шпаги</td>\n",
              "      <td>Посуда из коррозионно стойкой стали для взросл...</td>\n",
              "      <td>посуда из коррозионно стойкой стали для взросл...</td>\n",
              "      <td>посуд коррозион стойк стал взросл кастрюл котл...</td>\n",
              "      <td>посуда коррозионно стойкой стали взрослых каст...</td>\n",
              "      <td>посуда коррозионный стойка стать взрослый каст...</td>\n",
              "    </tr>\n",
              "    <tr>\n",
              "      <th>224894</th>\n",
              "      <td>284895</td>\n",
              "      <td>Вакуумный выключатель,</td>\n",
              "      <td>9683.1</td>\n",
              "      <td>Автоматические устройства управления бытовыми ...</td>\n",
              "      <td>Вакуумный выключатель</td>\n",
              "      <td>вакуумный выключатель</td>\n",
              "      <td>вакуумн выключател</td>\n",
              "      <td>вакуумный выключатель</td>\n",
              "      <td>вакуумный выключатель</td>\n",
              "    </tr>\n",
              "    <tr>\n",
              "      <th>244207</th>\n",
              "      <td>304208</td>\n",
              "      <td>Устройства вводно-распределительные для жилых ...</td>\n",
              "      <td>9683.1</td>\n",
              "      <td>Автоматические устройства управления бытовыми ...</td>\n",
              "      <td>Устройства вводно распределительные для жилых ...</td>\n",
              "      <td>устройства вводно распределительные для жилых ...</td>\n",
              "      <td>устройств вводн распределительн жил обществен ...</td>\n",
              "      <td>устройства вводно распределительные жилых обще...</td>\n",
              "      <td>устройство вводный распределительный жилой общ...</td>\n",
              "    </tr>\n",
              "    <tr>\n",
              "      <th>...</th>\n",
              "      <td>...</td>\n",
              "      <td>...</td>\n",
              "      <td>...</td>\n",
              "      <td>...</td>\n",
              "      <td>...</td>\n",
              "      <td>...</td>\n",
              "      <td>...</td>\n",
              "      <td>...</td>\n",
              "      <td>...</td>\n",
              "    </tr>\n",
              "    <tr>\n",
              "      <th>225044</th>\n",
              "      <td>285045</td>\n",
              "      <td>Бинт гипсовый медицинский под товарным знаком ...</td>\n",
              "      <td>9393.2</td>\n",
              "      <td>бинты гипсовые медицинские</td>\n",
              "      <td>Бинт гипсовый медицинский под товарным знаком ...</td>\n",
              "      <td>бинт гипсовый медицинский под товарным знаком ...</td>\n",
              "      <td>бинт гипсов медицинск товарн знак matopat вари...</td>\n",
              "      <td>бинт гипсовый медицинский товарным знаком mato...</td>\n",
              "      <td>бинт гипсовый медицинский товарный знак matopa...</td>\n",
              "    </tr>\n",
              "    <tr>\n",
              "      <th>227076</th>\n",
              "      <td>287077</td>\n",
              "      <td>Бинт гипсовый быстросхватывающийся четырехслой...</td>\n",
              "      <td>9393.2</td>\n",
              "      <td>бинты гипсовые медицинские</td>\n",
              "      <td>Бинт гипсовый быстросхватывающийся четырехслой...</td>\n",
              "      <td>бинт гипсовый быстросхватывающийся четырехслой...</td>\n",
              "      <td>бинт гипсов быстросхватыва четырехслойн gipset...</td>\n",
              "      <td>бинт гипсовый быстросхватывающийся четырехслой...</td>\n",
              "      <td>бинт гипсовый быстросхватывающийся четырехслой...</td>\n",
              "    </tr>\n",
              "    <tr>\n",
              "      <th>203995</th>\n",
              "      <td>263996</td>\n",
              "      <td>Бинты медицинские трикотажные, трубчатые, под ...</td>\n",
              "      <td>9393.2</td>\n",
              "      <td>бинты гипсовые медицинские</td>\n",
              "      <td>Бинты медицинские трикотажные трубчатые под ги...</td>\n",
              "      <td>бинты медицинские трикотажные трубчатые под ги...</td>\n",
              "      <td>бинт медицинск трикотажн трубчат гипс доктор бинт</td>\n",
              "      <td>бинты медицинские трикотажные трубчатые гипс д...</td>\n",
              "      <td>бинт медицинский трикотажный трубчатый гипс до...</td>\n",
              "    </tr>\n",
              "    <tr>\n",
              "      <th>101885</th>\n",
              "      <td>101886</td>\n",
              "      <td>Гипс медицинский, марки: Г-5, Г-6, Г-16, Г-18</td>\n",
              "      <td>9393.2</td>\n",
              "      <td>бинты гипсовые медицинские</td>\n",
              "      <td>Гипс медицинский марки Г Г Г Г</td>\n",
              "      <td>гипс медицинский марки г г г г</td>\n",
              "      <td>гипс медицинск марк г г г г</td>\n",
              "      <td>гипс медицинский марки г г г г</td>\n",
              "      <td>гипс медицинский марка г г г г</td>\n",
              "    </tr>\n",
              "    <tr>\n",
              "      <th>41405</th>\n",
              "      <td>41406</td>\n",
              "      <td>Бинты марлевые гипсовые по ТУ 9393-001-8444145...</td>\n",
              "      <td>9393.2</td>\n",
              "      <td>бинты гипсовые медицинские</td>\n",
              "      <td>Бинты марлевые гипсовые по ТУ</td>\n",
              "      <td>бинты марлевые гипсовые по ту</td>\n",
              "      <td>бинт марлев гипсов ту</td>\n",
              "      <td>бинты марлевые гипсовые ту</td>\n",
              "      <td>бинт марлевый гипсовый тот</td>\n",
              "    </tr>\n",
              "  </tbody>\n",
              "</table>\n",
              "<p>268914 rows × 9 columns</p>\n",
              "</div>"
            ],
            "text/plain": [
              "            id  ...                                           text_lem\n",
              "43516    43517  ...  инвентарь прикладной вид спорт лука спортивный...\n",
              "246307  306308  ...  конструктивно сходный холодный клинковый оружи...\n",
              "252059  312060  ...  посуда коррозионный стойка стать взрослый каст...\n",
              "224894  284895  ...                              вакуумный выключатель\n",
              "244207  304208  ...  устройство вводный распределительный жилой общ...\n",
              "...        ...  ...                                                ...\n",
              "225044  285045  ...  бинт гипсовый медицинский товарный знак matopa...\n",
              "227076  287077  ...  бинт гипсовый быстросхватывающийся четырехслой...\n",
              "203995  263996  ...  бинт медицинский трикотажный трубчатый гипс до...\n",
              "101885  101886  ...                     гипс медицинский марка г г г г\n",
              "41405    41406  ...                         бинт марлевый гипсовый тот\n",
              "\n",
              "[268914 rows x 9 columns]"
            ]
          },
          "metadata": {},
          "execution_count": 26
        }
      ]
    },
    {
      "cell_type": "code",
      "metadata": {
        "colab": {
          "base_uri": "https://localhost:8080/",
          "height": 86,
          "referenced_widgets": [
            "0aadc1f2f5e64bf894f67b74bd8499bd",
            "5e0ac5e0b8e44bf8a250522e6a424225",
            "6d49b1f37340496790b63fa2f497ebbd",
            "5150c78a3f1744659c107edc90298f64",
            "e331bb10e2ca4e40bfde9a9ab5490415",
            "7ab9afc618ee4d39b3c555b907d56bfc",
            "be805debd4d445dbabb16e951ef8d092",
            "7a46962f59ff4189acc5cfe570039fe8",
            "d4719f9d2ee648828707400cceb52d35",
            "14866f162466496b965e0ff5d8acdec1",
            "4b77a67a221a41c28b27797e0d4593af"
          ]
        },
        "id": "pFEXJx10RwQE",
        "outputId": "2d471415-8615-43b9-d5ca-04f34cb1f0f5"
      },
      "source": [
        "rez = []\n",
        "for txt in tqdm(dt_sort['Подкатегория_продукции'].unique()):\n",
        "  if \";\" in txt:\n",
        "    for i in range(txt.count(\";\")):\n",
        "      id = txt.index(\";\")\n",
        "      rez.append(txt[:id])\n",
        "      txt = txt[id+2:]\n",
        "  rez.append(txt)\n",
        "my_tags = list(set(rez))\n",
        "print(my_tags)\n",
        "y = my_tags"
      ],
      "execution_count": null,
      "outputs": [
        {
          "output_type": "display_data",
          "data": {
            "application/vnd.jupyter.widget-view+json": {
              "model_id": "0aadc1f2f5e64bf894f67b74bd8499bd",
              "version_minor": 0,
              "version_major": 2
            },
            "text/plain": [
              "  0%|          | 0/386 [00:00<?, ?it/s]"
            ]
          },
          "metadata": {}
        },
        {
          "output_type": "stream",
          "name": "stdout",
          "text": [
            "['Продукция мукомольно-крупяной промышленности кормовая', 'Инструменты механизированные, инструменты сшивающие', 'Материалы вспомогательные', 'Кабели силовые для стационарной прокладки на напряжение свыше 1 кВ', 'Комбикорма для пушных зверей, кроликов и нутрий', 'Корма животного происхождения (включая корма для непродуктивных животных)', 'Материалы хирургические, средства перевязочные: изделия ватно-марлевые медицинские', 'Аккумуляторы и аккумуляторные батареи никель-металлгидридной и литиевой систем', 'Сифоны бытовые и баллончики к ним', 'Рыбий жир (кроме жира технического)', 'Изделия протезно-ортопедические:', 'Пленки радиографические медицинские', 'Кормовая продукция маслобойной и жировой промышленности (жмыхи и шроты)', 'Тест-системы для диагностики других инфекционных заболеваний', 'Материалы теплоизоляционные из пеностекла', 'Оборудование медицинское', 'Приборы и аппараты для лечения, инкубаторы детские', 'Измерительные установки, комплексы, сигнализаторы, регистраторы, мониторы медицинские', 'Спички', 'Изделия из бумаги медицинского назначения', ' Холодное оружие: сабли ', 'Изделия для внутреннего протезирования', 'Мебель медицинская, включая лабораторную', 'Фанера общего назначения с наружными слоями из шпона лиственных пород', 'Дрожжи кормовые', 'Аминокислоты, гидролизаты белков и ферменты для ветеринарии', 'Рентгеновские генераторы', 'Составные части патронов ручного огнестрельного оружия: дробь охотничья, спортивная и картечь', 'Комбикорма и премиксы ', 'Среды питательные микробиологические, основы питательные и сырье биологическое для вирусологических питательных сред, применяемых в медицине', 'Туалетная бумага', 'Дрожжи кормовые - паприн', 'Средства пеномоющие', 'бинты гипсовые медицинские', 'Кассеты к аппаратам для безопасных бритв', 'Блоки оконные и балконные дверные из алюминиевых сплавов', 'Электрическая энергия в электрических сетях общего назначения переменного трехфазного и однофазного тока частотой 50 Гц', 'Аппаратура высоковольтная электрическая', 'Кассеты рентгеновские', 'Комбикорма полнорационные для сельскохозяйственной птицы', 'Электрооборудование пассажирских вагонов', 'Материалы стоматологические', 'Брикеты и гранулы кормовые', 'Продукция белковая, концентраты фосфатидные, ядро масличное, продукты переработки масличных семян, глицерин натуральный, соапстоки', 'Столовые приборы, в том числе одноразового применения (кроме изделий для детей и подростков)', 'Изделия культурно-бытового назначения и хозяйственного обихода из пластмасс', 'Переключатели и отключатели высоковольтные для подвижного состава', 'Инструменты однолезвийные', 'Комплектные распределительные устройства элегазовые', 'Смеси и растворы строительные', 'Инструменты оттесняющие', 'Разъединители и заземлители, отделители и короткозамыкатели', 'Изделия культурно-бытового назначения и хозяйственного обихода', 'Стеклопакеты', 'Щитки защитные лицевые', 'Комбикорма-концентраты для дойных кобыл', 'Приборы для функциональной диагностики измерительные', 'Трубки медицинские резиновые ', 'Кровати медицинские (включая электрические)', 'Средства дератизационные', 'Блочно-модульные тяговые подстанции систем электроснабжения электрифицированных железных дорог', 'Разрядники, ограничители перенапряжений', 'Посуда чугунная черная', 'Аппараты рентгеновские медицинские диагностические:', 'Приборы столовые из углеродистой стали и алюминиевых сплавов (кроме приборов столовых для детей и подростков)', 'Оборудование стоматологическое, зубопротезное и оториноларингологическое, установки стоматологические, кресла стоматологические, наконечники стоматологические', 'Материалы хирургические, средства перевязочные: марля медицинская ', 'Аккумуляторы и аккумуляторные батареи щелочные', 'Ультрамарины для красок для розничной торговли (упаковка до 1 кг)', 'Платки носовые бумажные', 'Выключатели силовые', 'Средства для борьбы с домашними грызунами', 'Перчатки хирургические из каучукового латекса стерильные одноразовые', 'Костыли', 'Комбикорма-концентраты гранулированные для откармливаемых лошадей', 'Шины пневматические для велосипедов ', 'Комбикорма для дичи', 'Средства моющие', 'Средства против бытовых насекомых, грызунов для дезинфекции и антисептики', 'Приборы столовые и принадлежности кухонные из коррозионно-стойкой стали (кроме изделий для детей до 3 лет)', 'Инструменты режущие и ударные с острой (режущей) кромкой', 'Блоки оконные и балконные дверные из полимерных материалов', 'Посуда хозяйственная, термосы и колбы, изделия ламповые', 'Велошины, велопокрышки, велокамеры и велоизделия', 'Приборы офтальмологические', 'Витамин E (альфа-токоферола ацетат) микрогранулированный кормовой', 'Инструменты многоповерхностного воздействия (зажимные), зажимы медицинские, пинцеты медицинские, держатели', 'Средства дезинфекционные, дезинсекционные и дератизационные', 'Растворы строительные', 'Посуда и изделия хозяйственные металлические литые, из жести и листовой стали', 'Элементы и батареи гальванические', 'Инструменты механизированные', 'Коробки для лекарственных средств', 'Средства дезинсекционные против бытовых насекомых', 'Кормовая продукция спиртовой и пивоваренной промышленности', 'Материалы хирургические, средства перевязочные специальные', 'Перчатки хирургические ', 'Обои', 'Стекло архитектурно-строительного назначения', 'Металлы и изделия', 'Приборы для исследования звуковых колебаний в органах человека', 'Барокамеры и устройства для лечения повышенным и пониженным давлением', 'Медицинские клеи', 'Аккумуляторы и аккумуляторные батареи щелочные никель-железные', 'Инструменты для ветеринарии, инструменты вспомогательные, принадлежности и приспособления разные', 'Фанера бакелизированная', 'Ножницы медицинские', 'Средства моющие синтетические порошкообразные', 'Плиты фанерные', 'Оборудование санитарно-гигиеническое, средства перемещения и перевозки', 'Фотопленки', 'Аккумуляторы щелочные никель-кадмиевые герметичные призматические', 'Аппараты и устройства для замещения функций органов и систем организма:', 'Рукава напорные резинотканевые (прокладочные)', 'Изделия щетинно-щеточные', 'Белково-витаминно-минеральные и амидо-витаминно-минеральные концентраты', 'Комбикорма-концентраты для овец', 'Препараты диагностические ветеринарные', 'Изделия медицинские из синтетической пряжи и нитей', 'Предметы сервировки стола, в том числе одноразового применения (кроме изделий для детей и подростков)', 'Масла смазочные (нефтяные)', 'Приборы для функциональной диагностики, томографы', 'Масло вазелиновое медицинское', 'Смеси строительные', 'Пакеты перевязочные медицинские', 'Посуда алюминиевая литая (кроме посуды для детей до 3 лет)', 'Препарат ферментный протосубтилин ГЗх', 'Наборы антигенов и сывороток диагностические ветеринарные прочие', 'Приборы столовые и принадлежности кухонные', 'Трансформаторы тока', 'Аппараты слуховые реабилитационные', 'Прокат из коррозионно-стойкой стали для хирургических имплантатов', 'Приборы для измерения объема и газового состава вдыхаемого и выдыхаемого воздуха и крови, капнометры, оксиметры', 'Изделия хозяйственного обихода: кухонные принадлежности', 'Вата и изделия ватные (из хлопковых, химических и шерстяных волокон)', 'Щетки зубные для взрослых', 'Аппараты ингаляционного наркоза, вентиляции легких, аэрозольтерапии, компенсации и лечения кислородной недостаточности', 'Жир ветеринарный из рыбы и морских млекопитающих', 'Материалы хирургические, средства перевязочные: салфетки и отрезы марлевые медицинские ', 'Посуда хозяйственная из листового алюминия (кроме посуды для детей и подростков)', 'Салфетки разного назначения', 'Кальция фосфат кормовой', 'Посуда и изделия из сплавов цветных металлов', 'Изделия фрикционные тормозные (кроме колодок тормозных и накладок тормозных, предназначенных для колесных транспортных средств)', 'Пигменты кадмиевые для розничной продажи (упаковка до 1 кг)', 'Столы операционные (включая электрические)', 'Продукция косметическая', 'Витамин B12 кормовой', 'Посуда, в том числе одноразового применения (кроме изделий для детей до 3 лет)', 'Продукция кормопроизводства прочая', 'Комбикорма-концентраты для свиней', 'Приборы и аппараты для электролечения низкочастотные, стимуляторы нервов и мышц', 'Комбикорма и добавки белково-витаминные для непродуктивных животных', 'Рентгеновские питающие устройства', 'Аппараты вакуумно-нагнетательные и аппараты для вливания и ирригации', 'Мел природный, сырье для производства вяжущих материалов. Мука известняковая и доломитовая и гипс сыромолотый', 'Комбикорма-концентраты гранулированные для тренируемых и спортивных лошадей', 'Посуда из нержавеющей стали', 'Инструменты выкусывающие', 'Изделия из бумаги бытового и санитарно-гигиенического назначения: ', 'Наборы медицинских инструментов', 'Приборы для измерения массы, силы, энергии, линейных и угловых величин, температуры электронные', 'Аккумуляторы и аккумуляторные батареи щелочные никель-кадмиевые закрытые (негерметичные)', 'Средства для стирки', 'Блоки оконные и балконные дверные деревянные, деревоалюминиевые (кроме блоков оконных для зданий промышленных, переплетов для животноводческих и птицеводческих зданий)', 'Диагностикумы, антигены, тест-системы, применяемые в медицине, препараты диагностические и среды питательные для ветеринарии', 'Средства перемещения и перевозки медицинские, носилки, тележки, кресла-коляски реабилитационные, ходунки, подъемники реабилитационные', 'Протезы верхних и нижних конечностей, ортезы', 'Олифы', 'Выключатели автоматические быстродействующие для подвижного состава железных дорог', 'Прокладки (пакеты) женские гигиенические, в том числе медицинского назначения', 'Приспособления для домашней обработки продуктов. Принадлежности столовые и кухонные. Изделия гончарные, щепные, бондарные, плетеные и другие', 'Конденсаторы и конденсаторные установки', 'Крупка комбикормовая', 'Вентильные разрядники и ограничители перенапряжений для электроподвижного состава и устройств электроснабжения железных дорог', 'Изделия из латексов и клеев', 'Инструменты колющие', 'Средства по уходу за контактными линзами', 'Сыворотки, антитела и прочие диагностические препараты, применяемые в медицине', 'Материалы теплоизоляционные из вспененного пенополистирола', 'Аккумуляторы и аккумуляторные батареи кислотные закрытые (герметизированные)', 'Аккумуляторы щелочные никель-кадмиевые герметичные дисковые', 'Бритвы механические', 'Приемники радиовещательные и магнитолы автомобильные', 'Комбикорма-концентраты для рабочих лошадей', 'Изделия фрикционные из ретинакса (кроме колодок тормозных и накладок тормозных, предназначенных для колесных транспортных средств)', 'Комбикорма для прудовых карповых рыб', 'Плиты', 'Ортопедические аппараты на верхние и нижние конечности', 'Шприцы медицинские многократного и однократного применения', 'Трубки медицинские, катетеры, канюли', 'Полотенца бумажные', 'Перчатки медицинские диагностические одноразовые', 'Комбикорма полнорационные для свиней', 'Аппараты электрические тяговые для электровозов и электропоездов: реле электромагнитные, дифференциальные, боксования', 'Изделия хозяйственного обихода: предметы личной гигиены (кроме изделий для ухода за детьми) и изделия для их хранения', 'Комплектные трансформаторные подстанции', 'Посуда хозяйственная стальная эмалированная для взрослых', 'Изделия фрикционные', 'Составные части патронов ручного огнестрельного оружия: пули для пневматического оружия', 'Оборудование стерилизационное ', 'Зажигалки (кроме питаемых от сети)', 'Комбикорма для контрольного откорма свиней', 'Наборы медицинские', 'Очки корригирующие массового изготовления', 'Приборы и аппараты для диагностики (кроме измерительных). Очки', 'Продукция микробиологической и мукомольно-крупяной промышленности', 'Патроны к гражданскому и служебному оружию, к средствам огнестрельным производственным и патроны, производимые только для экспорта в соответствии с техническими условиями, отвечающими требованиям стран-импортеров', 'Инструменты вспомогательные, принадлежности и приспособления разные, металлические шурупы для костей', 'Аккумуляторы и аккумуляторные батареи кислотные открытые (негерметичные) ', 'Препараты и средства химико-фармацевтические для ветеринарии', 'Ножи хозяйственные и специальные', 'Газы углеводородные сжиженные (кроме газов углеводородных сжиженных топливных для коммунально-бытового потребления и газов углеводородных сжиженных топливных для автомобильного транспорта)', 'Элементы и батареи первичные', 'Медикаменты, химико-фармацевтическая продукция и продукция медицинского назначения', 'Корсеты, реклинаторы, обтураторы, лифы к протезно-ортопедической продукции', 'Составные части патронов ручного огнестрельного оружия: пыжи, пыжи контейнеры', 'Белила цинковые для розничной торговли (упаковка до 1 кг)', 'Антигены и фаги диагностические ветеринарные', 'Изделия медицинские, санитарно-гигиенические и предметы ухода за больными формовые', 'Изделия медицинские из стекла: бутылки стеклянные для крови, кровезаменителей, трансфузионных и инфузионных препаратов', 'Приборы эндоскопические и увеличительные', 'Аккумуляторы и аккумуляторные батареи кислотные', 'Приборы для измерения частоты, скорости, ускорения, временных интервалов и перемещения', 'Брусья мостовые деревянные железных дорог широкой колеи, пропитанные защитными средствами', 'Инструменты колющие, иглы хирургические и атравматические', ' Холодное оружие: шпаги', 'Инструменты многоповерхностного воздействия (зажимные)', 'Материалы слепочные', 'Пластмассы стоматологические', 'Средства дезинфицирующие', 'Посуда из стекла для взрослых', 'Преобразователи для подвижного состава железных дорог', 'Оборудование дезинфекционное ', 'Мебель специальная', 'Растры отсеивающие', 'Аллергены (включая аллергены для ветеринарии)', 'Изделия художественно-декоративные, подарочные и сувенирные керамические, применяемые для пищевых продуктов (вазы для пищевых продуктов, наборы для напитков, чайные, детские, свадебные)', 'Трансформаторы силовые', 'Тетради школьные ученические, обои и товары бумажно-беловые', ' Холодное оружие: луки спортивные массовые ', 'Комплектные распределительные устройства', 'Премиксы', 'Товары бумажно-беловые', 'Эмали', 'Реакторы, включая реакторы токоограничивающие бетонные', 'Средства по уходу за зубами и полостью рта (флоссы, флоссодержатели, ирригаторы, стимуляторы для полости рта, ершики, зубочистки, порошки и таблетки для обработки зубных протезов, красящие таблетки для выявления зубного налета, средства для отбеливания зубов)', 'Изделия хозяйственного обихода: изделия санитарно-гигиенического назначения (кроме изделий для ухода за детьми)', 'Инструменты многолезвийные с вращением вокруг собственной оси', 'Кабели силовые с пластмассовой и бумажной изоляцией для стационарной прокладки на напряжение свыше 1 кВ (до 35 кВ включительно)', 'Корм для певчих и декоративных птиц', 'Приборы и аппараты для электролечения высокочастотные и квантовые: аппараты для высокочастотной электрохирургии, аппараты для УВЧ, коротковолновой терапии, аппараты для электролечения квантовые, аппараты для микроволновой терапии', 'Материалы теплоизоляционные из пенополиизоцианурата', 'Посуда хозяйственная из бесцветного жаростойкого стекла и посуда хозяйственная из ситаллов', 'Полуфабрикаты к протезно-ортопедической продукции ', 'Устройства электрошоковые', 'Материалы строительные нерудные', 'Бактериофаги (включая бактериофаги для ветеринарии)', 'Предохранители высоковольтные для подвижного состава железных дорог', 'Электроды для съема биоэлектрических потенциалов', 'Грунтовки антикоррозионные', 'Электроэнцефалографы', 'Мука известняковая для производства комбикормов для сельскохозяйственных животных и птицы и для подкормки птицы', 'Узлы протезов нижних конечностей', 'Комбикорм-концентрат гранулированный для племенных кобыл', 'Ленты асбестовые тормозные', 'Источники рентгеновского излучения', 'Изделия хозяйственного обихода: галантерейные изделия из пленочных материалов (кроме изделий для детей и подростков)', 'Посуда и приборы столовые из мельхиора, нейзильбера с золотым или серебряным покрытием (кроме изделий для детей до 3 лет)', 'Трубы круглого сечения сварные прочие, наружным диаметром более 406,4 мм, стальные, используемые для строительства, реконструкции и ремонта сетей водоснабжения и теплоснабжения', 'Изделия медицинские', 'Витамины синтетические водорастворимые и жирорастворимые для ветеринарии, препараты витаминные для ветеринарии', 'Фанера авиационная', 'Изделия протезно-ортопедические', 'Аппараты для гемодиализа', 'Витамин A (ретинола ацетат) микрогранулированный кормовой', 'Щебень для балластного слоя железных дорог из природного камня', 'Аппараты водолечебные и бальнеологические, механотерапевтические', 'Башмаки тормозных колодок подвижного состава магистральных железных дорог', 'Продукция микробиологической промышленности', 'Изделия травматологические, устройства для фиксации бедренных костей, имплантаты для остеосинтеза', 'Изделия столярные', 'Составные части патронов ручного огнестрельного оружия: пули патронов к нарезному и гладкоствольному оружию', 'Линзы для коррекции зрения', 'Продукция фанерного производства, плиты, спички', 'Товары бытовой химии в аэрозольной упаковке', 'Приборы и аппараты для лечения, наркозные. Устройства для замещения функций органов и систем организма', 'Очки солнцезащитные', 'Камеры сборные одностороннего обслуживания', 'Материалы лакокрасочные', 'Скатерти бумажные', 'Посуда хозяйственная чугунная эмалированная', 'Грелки резиновые (кроме изделий для ухода за детьми и подростками)', 'Тара картонная и бумажная', 'Лезвия для безопасных бритв', 'Сыворотки прочие', 'Лекарственные средства, зарегистрированные в установленном порядке и внесенные в государственный реестр, состоящие из смешанных и несмешанных продуктов для использования в терапевтических или профилактических целях, расфасованные в виде дозированных лекарственных форм или в упаковки для розничной продажи', 'Узлы протезов верхних конечностей', 'Клеенка подкладная резино-тканевая (кроме клеенки для детей и подростков)', 'Средства дезинсекционные', 'Термосы бытовые с сосудами из стекла', 'Электрокардиостимуляторы наружные', 'Материалы теплоизоляционные из экструзионного пенополистирола', 'Материалы пломбировочные', 'Комбикорма-концентраты для кроликов и нутрий', 'Материалы хирургические, средства перевязочные: изделия медицинские эластичные фиксирующие и компрессионные ', 'Материалы теплоизоляционные из минеральной ваты', 'Изделия из фарфора, фаянса, полуфарфора и майолики (кроме медицинского, санитарного фаянса и химико-лабораторной посуды)', 'Приборы для функциональной диагностики измерительные:', 'Стеклоочистители', 'Трансформаторы силовые (однофазные мощностью свыше 4 кВ А, трехфазные мощностью 6,3 кВ А и свыше)', 'Кормовая продукция консервной и овощесушильной промышленности', 'Средства защиты растений химические (пестициды)', 'Продукция комбикормовой промышленности', 'Электрокардиографы ', 'Разъединители, короткозамыкатели, отделители, заземлители высоковольтные для локомотивов и моторвагонного подвижного состава', 'Изделия травматологические', 'Удобрения фосфорные (фосфатные)', 'Оборудование кабинетов и палат:', 'Батареи аккумуляторные свинцово-кислотные стартерные (кроме используемых для колесных транспортных средств)', 'Посуда из коррозионно-стойкой стали для взрослых', 'Изделия абразивные', 'Посуда керамическая (фарфоровая, полуфарфоровая, фаянсовая, майоликовая) для взрослых', 'Комбикорма гранулированные', 'Инструменты зондирующие, бужирующие', 'Протезы кровеносных сосудов и клапанов сердца, линзы интраокулярные, электрокардиостимуляторы вживляемые', 'Комбикорма полнорационные для беконного откорма свиней', 'Комбикорма-концентраты для крупного рогатого скота', 'Материалы и изделия полимерные прочие', 'Фанера общего назначения с наружными слоями из шпона хвойных пород', 'Шпалы деревянные для железных дорог широкой колеи, пропитанные защитными средствами', 'Предметы металлической галантереи:', 'Приборы радиодиагностические', 'Заготовки клееные', 'Продукция мукомольно-крупяной промышленности прочая, побочная и отходы', 'Трансформаторы напряжения', 'Материалы и средства медицинские прочие', 'Автоматические устройства управления бытовыми электрическими приборами, работающие автономно', 'Комбикорма полнорационные гранулированные для кроликов', 'Материалы хирургические, средства перевязочные:', 'Удобрения минеральные', 'Статические преобразователи для устройств электроснабжения электрифицированных железных дорог', 'Изделия медицинские эластичные фиксирующие и компрессионные', 'Изделия медицинские из латекса, медицинские клеи ', 'Экраны: экраны рентгеновские', 'Товары бытовой химии', 'Приборы и аппараты радиотерапевтические, рентгенотерапевтические и ультразвуковые терапевтические, дозиметры, гамма-терапевтические аппараты, симуляторы (имитаторы)', 'Батареи аккумуляторные свинцовые нестартерные для мотоциклов и мотороллеров', 'Лодки надувные гребные ', 'Реакторы и реакторное оборудование для электровозов и электропоездов', 'Кормовая продукция сахарной и крахмало-паточной продукции', 'Материалы хирургические, средства перевязочные: вата медицинская гигроскопичная ', 'Комбикорма', 'Материалы хирургические, средства перевязочные', 'Зубы искусственные и коронки', 'Приборы для измерения давления: приборы для измерения артериального давления механические, электромеханические и электронные', 'Дефибрилляторы и дефибрилляторы-мониторы', 'Картон фильтровальный для пищевых жидкостей', 'Пузыри резиновые для льда (кроме изделий для ухода за детьми и подростками)', 'Материалы хирургические, средства перевязочные: бинты марлевые медицинские ', 'Плиты древесно-стружечные (кроме плит специального назначения)', 'Туторы на верхние и нижние конечности', 'Кабели силовые для нестационарной прокладки на напряжение свыше 1 кВ', 'Аппаратура, специально спроектированная для электровозов, тепловозов и газотурбовозов', 'Конструкции и изделия (элементы) строительные из алюминия и алюминиевых сплавов', 'Вспомогательные электрические машины для подвижного состава железных дорог', 'Материалы теплоизоляционные', 'Гамма- и иммуноглобулины гетерогенные', 'Рукава резиновые напорные с текстильным каркасом', 'Аккумуляторы щелочные никель-кадмиевые герметичные цилиндрические', 'Изделия медицинские из хлопчатобумажной пряжи', 'Посуда хозяйственная стальная эмалированная', 'Посуда из мельхиора, латуни, нейзильбера с хромовым или никелевым покрытием (кроме изделий для детей до 3 лет)', 'Протезы суставов вживляемые', 'Электрические одеяла, подушки и матрацы', 'Материалы асбестовые фрикционные эластичные', 'Пигменты белые сухие', 'Оборудование светотехническое медицинское', 'Средства защиты растений химические (пестициды) ', 'Генераторы сигналов диагностические, аудиометры', 'Повязки медицинские стерильные', 'Посуда алюминиевая штампованная', 'Маски резиновые для плавания под водой ', 'Средства для защиты растений садов и огородов от сельскохозяйственных вредителей и сорняков и минеральные удобрения', 'Метионин кормовой', 'Посуда художественная керамическая, применяемая для пищевых продуктов, стопки (стаканы) (кроме изделий для детей до 3 лет)']\n"
          ]
        }
      ]
    },
    {
      "cell_type": "code",
      "metadata": {
        "colab": {
          "base_uri": "https://localhost:8080/"
        },
        "id": "uzSpaOYIrHun",
        "outputId": "1d49a726-1b11-4cc5-f620-5ebf840bfd25"
      },
      "source": [
        "my_tags"
      ],
      "execution_count": null,
      "outputs": [
        {
          "output_type": "execute_result",
          "data": {
            "text/plain": [
              "['Продукция мукомольно-крупяной промышленности кормовая',\n",
              " 'Инструменты механизированные, инструменты сшивающие',\n",
              " 'Материалы вспомогательные',\n",
              " 'Кабели силовые для стационарной прокладки на напряжение свыше 1 кВ',\n",
              " 'Комбикорма для пушных зверей, кроликов и нутрий',\n",
              " 'Корма животного происхождения (включая корма для непродуктивных животных)',\n",
              " 'Материалы хирургические, средства перевязочные: изделия ватно-марлевые медицинские',\n",
              " 'Аккумуляторы и аккумуляторные батареи никель-металлгидридной и литиевой систем',\n",
              " 'Сифоны бытовые и баллончики к ним',\n",
              " 'Рыбий жир (кроме жира технического)',\n",
              " 'Изделия протезно-ортопедические:',\n",
              " 'Пленки радиографические медицинские',\n",
              " 'Кормовая продукция маслобойной и жировой промышленности (жмыхи и шроты)',\n",
              " 'Тест-системы для диагностики других инфекционных заболеваний',\n",
              " 'Материалы теплоизоляционные из пеностекла',\n",
              " 'Оборудование медицинское',\n",
              " 'Приборы и аппараты для лечения, инкубаторы детские',\n",
              " 'Измерительные установки, комплексы, сигнализаторы, регистраторы, мониторы медицинские',\n",
              " 'Спички',\n",
              " 'Изделия из бумаги медицинского назначения',\n",
              " ' Холодное оружие: сабли ',\n",
              " 'Изделия для внутреннего протезирования',\n",
              " 'Мебель медицинская, включая лабораторную',\n",
              " 'Фанера общего назначения с наружными слоями из шпона лиственных пород',\n",
              " 'Дрожжи кормовые',\n",
              " 'Аминокислоты, гидролизаты белков и ферменты для ветеринарии',\n",
              " 'Рентгеновские генераторы',\n",
              " 'Составные части патронов ручного огнестрельного оружия: дробь охотничья, спортивная и картечь',\n",
              " 'Комбикорма и премиксы ',\n",
              " 'Среды питательные микробиологические, основы питательные и сырье биологическое для вирусологических питательных сред, применяемых в медицине',\n",
              " 'Туалетная бумага',\n",
              " 'Дрожжи кормовые - паприн',\n",
              " 'Средства пеномоющие',\n",
              " 'бинты гипсовые медицинские',\n",
              " 'Кассеты к аппаратам для безопасных бритв',\n",
              " 'Блоки оконные и балконные дверные из алюминиевых сплавов',\n",
              " 'Электрическая энергия в электрических сетях общего назначения переменного трехфазного и однофазного тока частотой 50 Гц',\n",
              " 'Аппаратура высоковольтная электрическая',\n",
              " 'Кассеты рентгеновские',\n",
              " 'Комбикорма полнорационные для сельскохозяйственной птицы',\n",
              " 'Электрооборудование пассажирских вагонов',\n",
              " 'Материалы стоматологические',\n",
              " 'Брикеты и гранулы кормовые',\n",
              " 'Продукция белковая, концентраты фосфатидные, ядро масличное, продукты переработки масличных семян, глицерин натуральный, соапстоки',\n",
              " 'Столовые приборы, в том числе одноразового применения (кроме изделий для детей и подростков)',\n",
              " 'Изделия культурно-бытового назначения и хозяйственного обихода из пластмасс',\n",
              " 'Переключатели и отключатели высоковольтные для подвижного состава',\n",
              " 'Инструменты однолезвийные',\n",
              " 'Комплектные распределительные устройства элегазовые',\n",
              " 'Смеси и растворы строительные',\n",
              " 'Инструменты оттесняющие',\n",
              " 'Разъединители и заземлители, отделители и короткозамыкатели',\n",
              " 'Изделия культурно-бытового назначения и хозяйственного обихода',\n",
              " 'Стеклопакеты',\n",
              " 'Щитки защитные лицевые',\n",
              " 'Комбикорма-концентраты для дойных кобыл',\n",
              " 'Приборы для функциональной диагностики измерительные',\n",
              " 'Трубки медицинские резиновые ',\n",
              " 'Кровати медицинские (включая электрические)',\n",
              " 'Средства дератизационные',\n",
              " 'Блочно-модульные тяговые подстанции систем электроснабжения электрифицированных железных дорог',\n",
              " 'Разрядники, ограничители перенапряжений',\n",
              " 'Посуда чугунная черная',\n",
              " 'Аппараты рентгеновские медицинские диагностические:',\n",
              " 'Приборы столовые из углеродистой стали и алюминиевых сплавов (кроме приборов столовых для детей и подростков)',\n",
              " 'Оборудование стоматологическое, зубопротезное и оториноларингологическое, установки стоматологические, кресла стоматологические, наконечники стоматологические',\n",
              " 'Материалы хирургические, средства перевязочные: марля медицинская ',\n",
              " 'Аккумуляторы и аккумуляторные батареи щелочные',\n",
              " 'Ультрамарины для красок для розничной торговли (упаковка до 1 кг)',\n",
              " 'Платки носовые бумажные',\n",
              " 'Выключатели силовые',\n",
              " 'Средства для борьбы с домашними грызунами',\n",
              " 'Перчатки хирургические из каучукового латекса стерильные одноразовые',\n",
              " 'Костыли',\n",
              " 'Комбикорма-концентраты гранулированные для откармливаемых лошадей',\n",
              " 'Шины пневматические для велосипедов ',\n",
              " 'Комбикорма для дичи',\n",
              " 'Средства моющие',\n",
              " 'Средства против бытовых насекомых, грызунов для дезинфекции и антисептики',\n",
              " 'Приборы столовые и принадлежности кухонные из коррозионно-стойкой стали (кроме изделий для детей до 3 лет)',\n",
              " 'Инструменты режущие и ударные с острой (режущей) кромкой',\n",
              " 'Блоки оконные и балконные дверные из полимерных материалов',\n",
              " 'Посуда хозяйственная, термосы и колбы, изделия ламповые',\n",
              " 'Велошины, велопокрышки, велокамеры и велоизделия',\n",
              " 'Приборы офтальмологические',\n",
              " 'Витамин E (альфа-токоферола ацетат) микрогранулированный кормовой',\n",
              " 'Инструменты многоповерхностного воздействия (зажимные), зажимы медицинские, пинцеты медицинские, держатели',\n",
              " 'Средства дезинфекционные, дезинсекционные и дератизационные',\n",
              " 'Растворы строительные',\n",
              " 'Посуда и изделия хозяйственные металлические литые, из жести и листовой стали',\n",
              " 'Элементы и батареи гальванические',\n",
              " 'Инструменты механизированные',\n",
              " 'Коробки для лекарственных средств',\n",
              " 'Средства дезинсекционные против бытовых насекомых',\n",
              " 'Кормовая продукция спиртовой и пивоваренной промышленности',\n",
              " 'Материалы хирургические, средства перевязочные специальные',\n",
              " 'Перчатки хирургические ',\n",
              " 'Обои',\n",
              " 'Стекло архитектурно-строительного назначения',\n",
              " 'Металлы и изделия',\n",
              " 'Приборы для исследования звуковых колебаний в органах человека',\n",
              " 'Барокамеры и устройства для лечения повышенным и пониженным давлением',\n",
              " 'Медицинские клеи',\n",
              " 'Аккумуляторы и аккумуляторные батареи щелочные никель-железные',\n",
              " 'Инструменты для ветеринарии, инструменты вспомогательные, принадлежности и приспособления разные',\n",
              " 'Фанера бакелизированная',\n",
              " 'Ножницы медицинские',\n",
              " 'Средства моющие синтетические порошкообразные',\n",
              " 'Плиты фанерные',\n",
              " 'Оборудование санитарно-гигиеническое, средства перемещения и перевозки',\n",
              " 'Фотопленки',\n",
              " 'Аккумуляторы щелочные никель-кадмиевые герметичные призматические',\n",
              " 'Аппараты и устройства для замещения функций органов и систем организма:',\n",
              " 'Рукава напорные резинотканевые (прокладочные)',\n",
              " 'Изделия щетинно-щеточные',\n",
              " 'Белково-витаминно-минеральные и амидо-витаминно-минеральные концентраты',\n",
              " 'Комбикорма-концентраты для овец',\n",
              " 'Препараты диагностические ветеринарные',\n",
              " 'Изделия медицинские из синтетической пряжи и нитей',\n",
              " 'Предметы сервировки стола, в том числе одноразового применения (кроме изделий для детей и подростков)',\n",
              " 'Масла смазочные (нефтяные)',\n",
              " 'Приборы для функциональной диагностики, томографы',\n",
              " 'Масло вазелиновое медицинское',\n",
              " 'Смеси строительные',\n",
              " 'Пакеты перевязочные медицинские',\n",
              " 'Посуда алюминиевая литая (кроме посуды для детей до 3 лет)',\n",
              " 'Препарат ферментный протосубтилин ГЗх',\n",
              " 'Наборы антигенов и сывороток диагностические ветеринарные прочие',\n",
              " 'Приборы столовые и принадлежности кухонные',\n",
              " 'Трансформаторы тока',\n",
              " 'Аппараты слуховые реабилитационные',\n",
              " 'Прокат из коррозионно-стойкой стали для хирургических имплантатов',\n",
              " 'Приборы для измерения объема и газового состава вдыхаемого и выдыхаемого воздуха и крови, капнометры, оксиметры',\n",
              " 'Изделия хозяйственного обихода: кухонные принадлежности',\n",
              " 'Вата и изделия ватные (из хлопковых, химических и шерстяных волокон)',\n",
              " 'Щетки зубные для взрослых',\n",
              " 'Аппараты ингаляционного наркоза, вентиляции легких, аэрозольтерапии, компенсации и лечения кислородной недостаточности',\n",
              " 'Жир ветеринарный из рыбы и морских млекопитающих',\n",
              " 'Материалы хирургические, средства перевязочные: салфетки и отрезы марлевые медицинские ',\n",
              " 'Посуда хозяйственная из листового алюминия (кроме посуды для детей и подростков)',\n",
              " 'Салфетки разного назначения',\n",
              " 'Кальция фосфат кормовой',\n",
              " 'Посуда и изделия из сплавов цветных металлов',\n",
              " 'Изделия фрикционные тормозные (кроме колодок тормозных и накладок тормозных, предназначенных для колесных транспортных средств)',\n",
              " 'Пигменты кадмиевые для розничной продажи (упаковка до 1 кг)',\n",
              " 'Столы операционные (включая электрические)',\n",
              " 'Продукция косметическая',\n",
              " 'Витамин B12 кормовой',\n",
              " 'Посуда, в том числе одноразового применения (кроме изделий для детей до 3 лет)',\n",
              " 'Продукция кормопроизводства прочая',\n",
              " 'Комбикорма-концентраты для свиней',\n",
              " 'Приборы и аппараты для электролечения низкочастотные, стимуляторы нервов и мышц',\n",
              " 'Комбикорма и добавки белково-витаминные для непродуктивных животных',\n",
              " 'Рентгеновские питающие устройства',\n",
              " 'Аппараты вакуумно-нагнетательные и аппараты для вливания и ирригации',\n",
              " 'Мел природный, сырье для производства вяжущих материалов. Мука известняковая и доломитовая и гипс сыромолотый',\n",
              " 'Комбикорма-концентраты гранулированные для тренируемых и спортивных лошадей',\n",
              " 'Посуда из нержавеющей стали',\n",
              " 'Инструменты выкусывающие',\n",
              " 'Изделия из бумаги бытового и санитарно-гигиенического назначения: ',\n",
              " 'Наборы медицинских инструментов',\n",
              " 'Приборы для измерения массы, силы, энергии, линейных и угловых величин, температуры электронные',\n",
              " 'Аккумуляторы и аккумуляторные батареи щелочные никель-кадмиевые закрытые (негерметичные)',\n",
              " 'Средства для стирки',\n",
              " 'Блоки оконные и балконные дверные деревянные, деревоалюминиевые (кроме блоков оконных для зданий промышленных, переплетов для животноводческих и птицеводческих зданий)',\n",
              " 'Диагностикумы, антигены, тест-системы, применяемые в медицине, препараты диагностические и среды питательные для ветеринарии',\n",
              " 'Средства перемещения и перевозки медицинские, носилки, тележки, кресла-коляски реабилитационные, ходунки, подъемники реабилитационные',\n",
              " 'Протезы верхних и нижних конечностей, ортезы',\n",
              " 'Олифы',\n",
              " 'Выключатели автоматические быстродействующие для подвижного состава железных дорог',\n",
              " 'Прокладки (пакеты) женские гигиенические, в том числе медицинского назначения',\n",
              " 'Приспособления для домашней обработки продуктов. Принадлежности столовые и кухонные. Изделия гончарные, щепные, бондарные, плетеные и другие',\n",
              " 'Конденсаторы и конденсаторные установки',\n",
              " 'Крупка комбикормовая',\n",
              " 'Вентильные разрядники и ограничители перенапряжений для электроподвижного состава и устройств электроснабжения железных дорог',\n",
              " 'Изделия из латексов и клеев',\n",
              " 'Инструменты колющие',\n",
              " 'Средства по уходу за контактными линзами',\n",
              " 'Сыворотки, антитела и прочие диагностические препараты, применяемые в медицине',\n",
              " 'Материалы теплоизоляционные из вспененного пенополистирола',\n",
              " 'Аккумуляторы и аккумуляторные батареи кислотные закрытые (герметизированные)',\n",
              " 'Аккумуляторы щелочные никель-кадмиевые герметичные дисковые',\n",
              " 'Бритвы механические',\n",
              " 'Приемники радиовещательные и магнитолы автомобильные',\n",
              " 'Комбикорма-концентраты для рабочих лошадей',\n",
              " 'Изделия фрикционные из ретинакса (кроме колодок тормозных и накладок тормозных, предназначенных для колесных транспортных средств)',\n",
              " 'Комбикорма для прудовых карповых рыб',\n",
              " 'Плиты',\n",
              " 'Ортопедические аппараты на верхние и нижние конечности',\n",
              " 'Шприцы медицинские многократного и однократного применения',\n",
              " 'Трубки медицинские, катетеры, канюли',\n",
              " 'Полотенца бумажные',\n",
              " 'Перчатки медицинские диагностические одноразовые',\n",
              " 'Комбикорма полнорационные для свиней',\n",
              " 'Аппараты электрические тяговые для электровозов и электропоездов: реле электромагнитные, дифференциальные, боксования',\n",
              " 'Изделия хозяйственного обихода: предметы личной гигиены (кроме изделий для ухода за детьми) и изделия для их хранения',\n",
              " 'Комплектные трансформаторные подстанции',\n",
              " 'Посуда хозяйственная стальная эмалированная для взрослых',\n",
              " 'Изделия фрикционные',\n",
              " 'Составные части патронов ручного огнестрельного оружия: пули для пневматического оружия',\n",
              " 'Оборудование стерилизационное ',\n",
              " 'Зажигалки (кроме питаемых от сети)',\n",
              " 'Комбикорма для контрольного откорма свиней',\n",
              " 'Наборы медицинские',\n",
              " 'Очки корригирующие массового изготовления',\n",
              " 'Приборы и аппараты для диагностики (кроме измерительных). Очки',\n",
              " 'Продукция микробиологической и мукомольно-крупяной промышленности',\n",
              " 'Патроны к гражданскому и служебному оружию, к средствам огнестрельным производственным и патроны, производимые только для экспорта в соответствии с техническими условиями, отвечающими требованиям стран-импортеров',\n",
              " 'Инструменты вспомогательные, принадлежности и приспособления разные, металлические шурупы для костей',\n",
              " 'Аккумуляторы и аккумуляторные батареи кислотные открытые (негерметичные) ',\n",
              " 'Препараты и средства химико-фармацевтические для ветеринарии',\n",
              " 'Ножи хозяйственные и специальные',\n",
              " 'Газы углеводородные сжиженные (кроме газов углеводородных сжиженных топливных для коммунально-бытового потребления и газов углеводородных сжиженных топливных для автомобильного транспорта)',\n",
              " 'Элементы и батареи первичные',\n",
              " 'Медикаменты, химико-фармацевтическая продукция и продукция медицинского назначения',\n",
              " 'Корсеты, реклинаторы, обтураторы, лифы к протезно-ортопедической продукции',\n",
              " 'Составные части патронов ручного огнестрельного оружия: пыжи, пыжи контейнеры',\n",
              " 'Белила цинковые для розничной торговли (упаковка до 1 кг)',\n",
              " 'Антигены и фаги диагностические ветеринарные',\n",
              " 'Изделия медицинские, санитарно-гигиенические и предметы ухода за больными формовые',\n",
              " 'Изделия медицинские из стекла: бутылки стеклянные для крови, кровезаменителей, трансфузионных и инфузионных препаратов',\n",
              " 'Приборы эндоскопические и увеличительные',\n",
              " 'Аккумуляторы и аккумуляторные батареи кислотные',\n",
              " 'Приборы для измерения частоты, скорости, ускорения, временных интервалов и перемещения',\n",
              " 'Брусья мостовые деревянные железных дорог широкой колеи, пропитанные защитными средствами',\n",
              " 'Инструменты колющие, иглы хирургические и атравматические',\n",
              " ' Холодное оружие: шпаги',\n",
              " 'Инструменты многоповерхностного воздействия (зажимные)',\n",
              " 'Материалы слепочные',\n",
              " 'Пластмассы стоматологические',\n",
              " 'Средства дезинфицирующие',\n",
              " 'Посуда из стекла для взрослых',\n",
              " 'Преобразователи для подвижного состава железных дорог',\n",
              " 'Оборудование дезинфекционное ',\n",
              " 'Мебель специальная',\n",
              " 'Растры отсеивающие',\n",
              " 'Аллергены (включая аллергены для ветеринарии)',\n",
              " 'Изделия художественно-декоративные, подарочные и сувенирные керамические, применяемые для пищевых продуктов (вазы для пищевых продуктов, наборы для напитков, чайные, детские, свадебные)',\n",
              " 'Трансформаторы силовые',\n",
              " 'Тетради школьные ученические, обои и товары бумажно-беловые',\n",
              " ' Холодное оружие: луки спортивные массовые ',\n",
              " 'Комплектные распределительные устройства',\n",
              " 'Премиксы',\n",
              " 'Товары бумажно-беловые',\n",
              " 'Эмали',\n",
              " 'Реакторы, включая реакторы токоограничивающие бетонные',\n",
              " 'Средства по уходу за зубами и полостью рта (флоссы, флоссодержатели, ирригаторы, стимуляторы для полости рта, ершики, зубочистки, порошки и таблетки для обработки зубных протезов, красящие таблетки для выявления зубного налета, средства для отбеливания зубов)',\n",
              " 'Изделия хозяйственного обихода: изделия санитарно-гигиенического назначения (кроме изделий для ухода за детьми)',\n",
              " 'Инструменты многолезвийные с вращением вокруг собственной оси',\n",
              " 'Кабели силовые с пластмассовой и бумажной изоляцией для стационарной прокладки на напряжение свыше 1 кВ (до 35 кВ включительно)',\n",
              " 'Корм для певчих и декоративных птиц',\n",
              " 'Приборы и аппараты для электролечения высокочастотные и квантовые: аппараты для высокочастотной электрохирургии, аппараты для УВЧ, коротковолновой терапии, аппараты для электролечения квантовые, аппараты для микроволновой терапии',\n",
              " 'Материалы теплоизоляционные из пенополиизоцианурата',\n",
              " 'Посуда хозяйственная из бесцветного жаростойкого стекла и посуда хозяйственная из ситаллов',\n",
              " 'Полуфабрикаты к протезно-ортопедической продукции ',\n",
              " 'Устройства электрошоковые',\n",
              " 'Материалы строительные нерудные',\n",
              " 'Бактериофаги (включая бактериофаги для ветеринарии)',\n",
              " 'Предохранители высоковольтные для подвижного состава железных дорог',\n",
              " 'Электроды для съема биоэлектрических потенциалов',\n",
              " 'Грунтовки антикоррозионные',\n",
              " 'Электроэнцефалографы',\n",
              " 'Мука известняковая для производства комбикормов для сельскохозяйственных животных и птицы и для подкормки птицы',\n",
              " 'Узлы протезов нижних конечностей',\n",
              " 'Комбикорм-концентрат гранулированный для племенных кобыл',\n",
              " 'Ленты асбестовые тормозные',\n",
              " 'Источники рентгеновского излучения',\n",
              " 'Изделия хозяйственного обихода: галантерейные изделия из пленочных материалов (кроме изделий для детей и подростков)',\n",
              " 'Посуда и приборы столовые из мельхиора, нейзильбера с золотым или серебряным покрытием (кроме изделий для детей до 3 лет)',\n",
              " 'Трубы круглого сечения сварные прочие, наружным диаметром более 406,4 мм, стальные, используемые для строительства, реконструкции и ремонта сетей водоснабжения и теплоснабжения',\n",
              " 'Изделия медицинские',\n",
              " 'Витамины синтетические водорастворимые и жирорастворимые для ветеринарии, препараты витаминные для ветеринарии',\n",
              " 'Фанера авиационная',\n",
              " 'Изделия протезно-ортопедические',\n",
              " 'Аппараты для гемодиализа',\n",
              " 'Витамин A (ретинола ацетат) микрогранулированный кормовой',\n",
              " 'Щебень для балластного слоя железных дорог из природного камня',\n",
              " 'Аппараты водолечебные и бальнеологические, механотерапевтические',\n",
              " 'Башмаки тормозных колодок подвижного состава магистральных железных дорог',\n",
              " 'Продукция микробиологической промышленности',\n",
              " 'Изделия травматологические, устройства для фиксации бедренных костей, имплантаты для остеосинтеза',\n",
              " 'Изделия столярные',\n",
              " 'Составные части патронов ручного огнестрельного оружия: пули патронов к нарезному и гладкоствольному оружию',\n",
              " 'Линзы для коррекции зрения',\n",
              " 'Продукция фанерного производства, плиты, спички',\n",
              " 'Товары бытовой химии в аэрозольной упаковке',\n",
              " 'Приборы и аппараты для лечения, наркозные. Устройства для замещения функций органов и систем организма',\n",
              " 'Очки солнцезащитные',\n",
              " 'Камеры сборные одностороннего обслуживания',\n",
              " 'Материалы лакокрасочные',\n",
              " 'Скатерти бумажные',\n",
              " 'Посуда хозяйственная чугунная эмалированная',\n",
              " 'Грелки резиновые (кроме изделий для ухода за детьми и подростками)',\n",
              " 'Тара картонная и бумажная',\n",
              " 'Лезвия для безопасных бритв',\n",
              " 'Сыворотки прочие',\n",
              " 'Лекарственные средства, зарегистрированные в установленном порядке и внесенные в государственный реестр, состоящие из смешанных и несмешанных продуктов для использования в терапевтических или профилактических целях, расфасованные в виде дозированных лекарственных форм или в упаковки для розничной продажи',\n",
              " 'Узлы протезов верхних конечностей',\n",
              " 'Клеенка подкладная резино-тканевая (кроме клеенки для детей и подростков)',\n",
              " 'Средства дезинсекционные',\n",
              " 'Термосы бытовые с сосудами из стекла',\n",
              " 'Электрокардиостимуляторы наружные',\n",
              " 'Материалы теплоизоляционные из экструзионного пенополистирола',\n",
              " 'Материалы пломбировочные',\n",
              " 'Комбикорма-концентраты для кроликов и нутрий',\n",
              " 'Материалы хирургические, средства перевязочные: изделия медицинские эластичные фиксирующие и компрессионные ',\n",
              " 'Материалы теплоизоляционные из минеральной ваты',\n",
              " 'Изделия из фарфора, фаянса, полуфарфора и майолики (кроме медицинского, санитарного фаянса и химико-лабораторной посуды)',\n",
              " 'Приборы для функциональной диагностики измерительные:',\n",
              " 'Стеклоочистители',\n",
              " 'Трансформаторы силовые (однофазные мощностью свыше 4 кВ А, трехфазные мощностью 6,3 кВ А и свыше)',\n",
              " 'Кормовая продукция консервной и овощесушильной промышленности',\n",
              " 'Средства защиты растений химические (пестициды)',\n",
              " 'Продукция комбикормовой промышленности',\n",
              " 'Электрокардиографы ',\n",
              " 'Разъединители, короткозамыкатели, отделители, заземлители высоковольтные для локомотивов и моторвагонного подвижного состава',\n",
              " 'Изделия травматологические',\n",
              " 'Удобрения фосфорные (фосфатные)',\n",
              " 'Оборудование кабинетов и палат:',\n",
              " 'Батареи аккумуляторные свинцово-кислотные стартерные (кроме используемых для колесных транспортных средств)',\n",
              " 'Посуда из коррозионно-стойкой стали для взрослых',\n",
              " 'Изделия абразивные',\n",
              " 'Посуда керамическая (фарфоровая, полуфарфоровая, фаянсовая, майоликовая) для взрослых',\n",
              " 'Комбикорма гранулированные',\n",
              " 'Инструменты зондирующие, бужирующие',\n",
              " 'Протезы кровеносных сосудов и клапанов сердца, линзы интраокулярные, электрокардиостимуляторы вживляемые',\n",
              " 'Комбикорма полнорационные для беконного откорма свиней',\n",
              " 'Комбикорма-концентраты для крупного рогатого скота',\n",
              " 'Материалы и изделия полимерные прочие',\n",
              " 'Фанера общего назначения с наружными слоями из шпона хвойных пород',\n",
              " 'Шпалы деревянные для железных дорог широкой колеи, пропитанные защитными средствами',\n",
              " 'Предметы металлической галантереи:',\n",
              " 'Приборы радиодиагностические',\n",
              " 'Заготовки клееные',\n",
              " 'Продукция мукомольно-крупяной промышленности прочая, побочная и отходы',\n",
              " 'Трансформаторы напряжения',\n",
              " 'Материалы и средства медицинские прочие',\n",
              " 'Автоматические устройства управления бытовыми электрическими приборами, работающие автономно',\n",
              " 'Комбикорма полнорационные гранулированные для кроликов',\n",
              " 'Материалы хирургические, средства перевязочные:',\n",
              " 'Удобрения минеральные',\n",
              " 'Статические преобразователи для устройств электроснабжения электрифицированных железных дорог',\n",
              " 'Изделия медицинские эластичные фиксирующие и компрессионные',\n",
              " 'Изделия медицинские из латекса, медицинские клеи ',\n",
              " 'Экраны: экраны рентгеновские',\n",
              " 'Товары бытовой химии',\n",
              " 'Приборы и аппараты радиотерапевтические, рентгенотерапевтические и ультразвуковые терапевтические, дозиметры, гамма-терапевтические аппараты, симуляторы (имитаторы)',\n",
              " 'Батареи аккумуляторные свинцовые нестартерные для мотоциклов и мотороллеров',\n",
              " 'Лодки надувные гребные ',\n",
              " 'Реакторы и реакторное оборудование для электровозов и электропоездов',\n",
              " 'Кормовая продукция сахарной и крахмало-паточной продукции',\n",
              " 'Материалы хирургические, средства перевязочные: вата медицинская гигроскопичная ',\n",
              " 'Комбикорма',\n",
              " 'Материалы хирургические, средства перевязочные',\n",
              " 'Зубы искусственные и коронки',\n",
              " 'Приборы для измерения давления: приборы для измерения артериального давления механические, электромеханические и электронные',\n",
              " 'Дефибрилляторы и дефибрилляторы-мониторы',\n",
              " 'Картон фильтровальный для пищевых жидкостей',\n",
              " 'Пузыри резиновые для льда (кроме изделий для ухода за детьми и подростками)',\n",
              " 'Материалы хирургические, средства перевязочные: бинты марлевые медицинские ',\n",
              " 'Плиты древесно-стружечные (кроме плит специального назначения)',\n",
              " 'Туторы на верхние и нижние конечности',\n",
              " 'Кабели силовые для нестационарной прокладки на напряжение свыше 1 кВ',\n",
              " 'Аппаратура, специально спроектированная для электровозов, тепловозов и газотурбовозов',\n",
              " 'Конструкции и изделия (элементы) строительные из алюминия и алюминиевых сплавов',\n",
              " 'Вспомогательные электрические машины для подвижного состава железных дорог',\n",
              " 'Материалы теплоизоляционные',\n",
              " 'Гамма- и иммуноглобулины гетерогенные',\n",
              " 'Рукава резиновые напорные с текстильным каркасом',\n",
              " 'Аккумуляторы щелочные никель-кадмиевые герметичные цилиндрические',\n",
              " 'Изделия медицинские из хлопчатобумажной пряжи',\n",
              " 'Посуда хозяйственная стальная эмалированная',\n",
              " 'Посуда из мельхиора, латуни, нейзильбера с хромовым или никелевым покрытием (кроме изделий для детей до 3 лет)',\n",
              " 'Протезы суставов вживляемые',\n",
              " 'Электрические одеяла, подушки и матрацы',\n",
              " 'Материалы асбестовые фрикционные эластичные',\n",
              " 'Пигменты белые сухие',\n",
              " 'Оборудование светотехническое медицинское',\n",
              " 'Средства защиты растений химические (пестициды) ',\n",
              " 'Генераторы сигналов диагностические, аудиометры',\n",
              " 'Повязки медицинские стерильные',\n",
              " 'Посуда алюминиевая штампованная',\n",
              " 'Маски резиновые для плавания под водой ',\n",
              " 'Средства для защиты растений садов и огородов от сельскохозяйственных вредителей и сорняков и минеральные удобрения',\n",
              " 'Метионин кормовой',\n",
              " 'Посуда художественная керамическая, применяемая для пищевых продуктов, стопки (стаканы) (кроме изделий для детей до 3 лет)']"
            ]
          },
          "metadata": {},
          "execution_count": 28
        }
      ]
    },
    {
      "cell_type": "code",
      "metadata": {
        "id": "wnDSwKQolwUb"
      },
      "source": [
        "X = dt_sort['text_lem']\n",
        "y = dt_sort['Подкатегория_продукции']\n"
      ],
      "execution_count": null,
      "outputs": []
    },
    {
      "cell_type": "code",
      "metadata": {
        "colab": {
          "base_uri": "https://localhost:8080/"
        },
        "id": "uYAFZDRv1de5",
        "outputId": "1989e44e-466e-4786-beb9-9fe94eb3a602"
      },
      "source": [
        "from sklearn.model_selection import train_test_split\n",
        "X_train, X_test, y_train, y_test = train_test_split(X, y, test_size=0.3, random_state = 42)\n",
        "print(X_test)"
      ],
      "execution_count": null,
      "outputs": [
        {
          "output_type": "stream",
          "name": "stdout",
          "text": [
            "40108     лекарственный средство натрий хлорид солофарма...\n",
            "73186     коронал таблетка покрыть плёночный оболочка мг...\n",
            "255893    посуда коррозионностойкий стать элемент пластм...\n",
            "175412    остеогенон таблетка покрыть оболочка мг шт бли...\n",
            "222737    посуда алюминиевый литой противопригарать покр...\n",
            "                                ...                        \n",
            "68922     глицин таблетка подъязычный мг шт упаковка яче...\n",
            "249999                                    жмых подсолнечный\n",
            "10143                     лекарственный средство мерифатина\n",
            "40396     энтеросгель® паста приём внутрь г туба комбини...\n",
            "111715    лефлобакт® раствор инфузия мг мл мл флакон тём...\n",
            "Name: text_lem, Length: 80675, dtype: object\n"
          ]
        }
      ]
    },
    {
      "cell_type": "markdown",
      "metadata": {
        "id": "thuOPB6E30V7"
      },
      "source": [
        "Naive Bayes Classifier"
      ]
    },
    {
      "cell_type": "code",
      "metadata": {
        "id": "bc3jef-g31Ax"
      },
      "source": [
        "from sklearn.naive_bayes import MultinomialNB\n",
        "from sklearn.pipeline import Pipeline\n",
        "from sklearn.feature_extraction.text import TfidfTransformer\n",
        "from sklearn.feature_extraction.text import CountVectorizer"
      ],
      "execution_count": null,
      "outputs": []
    },
    {
      "cell_type": "code",
      "metadata": {
        "id": "Q0ddstUN35ni"
      },
      "source": [
        "nb = Pipeline([('vect', CountVectorizer()),\n",
        "               ('tfidf', TfidfTransformer()),\n",
        "               ('clf', MultinomialNB()),\n",
        "              ])"
      ],
      "execution_count": null,
      "outputs": []
    },
    {
      "cell_type": "code",
      "metadata": {
        "colab": {
          "base_uri": "https://localhost:8080/"
        },
        "id": "RHsK5Ase4GQR",
        "outputId": "23a24ce5-48e0-4541-d0ca-174916bcdaf5"
      },
      "source": [
        "%%time\n",
        "nb.fit(X_train, y_train)"
      ],
      "execution_count": null,
      "outputs": [
        {
          "name": "stdout",
          "output_type": "stream",
          "text": [
            "CPU times: user 8.26 s, sys: 1.15 s, total: 9.41 s\n",
            "Wall time: 9.42 s\n"
          ]
        },
        {
          "data": {
            "text/plain": [
              "Pipeline(steps=[('vect', CountVectorizer()), ('tfidf', TfidfTransformer()),\n",
              "                ('clf', MultinomialNB())])"
            ]
          },
          "execution_count": 324,
          "metadata": {},
          "output_type": "execute_result"
        }
      ]
    },
    {
      "cell_type": "code",
      "metadata": {
        "colab": {
          "base_uri": "https://localhost:8080/"
        },
        "id": "bVFJb9iF4YEC",
        "outputId": "36bd6ee9-c95e-433e-d3e2-9193da19472a"
      },
      "source": [
        "%%time\n",
        "from sklearn.metrics import classification_report\n",
        "y_pred = nb.predict(X_test)"
      ],
      "execution_count": null,
      "outputs": [
        {
          "name": "stdout",
          "output_type": "stream",
          "text": [
            "CPU times: user 2.4 s, sys: 19.9 ms, total: 2.42 s\n",
            "Wall time: 2.43 s\n"
          ]
        }
      ]
    },
    {
      "cell_type": "code",
      "metadata": {
        "colab": {
          "base_uri": "https://localhost:8080/",
          "height": 35
        },
        "id": "JOyIP6u24a8N",
        "outputId": "e1750683-609f-4f89-a7ee-c090ea8e6054"
      },
      "source": [
        "y_pred[0]"
      ],
      "execution_count": null,
      "outputs": [
        {
          "data": {
            "application/vnd.google.colaboratory.intrinsic+json": {
              "type": "string"
            },
            "text/plain": [
              "'Корма животного происхождения (включая корма для непродуктивных животных)'"
            ]
          },
          "execution_count": 326,
          "metadata": {},
          "output_type": "execute_result"
        }
      ]
    },
    {
      "cell_type": "code",
      "metadata": {
        "colab": {
          "base_uri": "https://localhost:8080/"
        },
        "id": "w6BxMyWI4efU",
        "outputId": "9a634541-07f9-44b4-909b-633f74892fb1"
      },
      "source": [
        "print(X_test[0], y_test[0], y_pred[0])"
      ],
      "execution_count": null,
      "outputs": [
        {
          "name": "stdout",
          "output_type": "stream",
          "text": [
            "парацетамол таблетка мг шт упаковка ячейковый контурный пачка картонный рег № лс серия партия упаковка годный производство оао фармстандарт лексредство инна курский область курск ул агрегатный россия код окпд Лекарственные средства, зарегистрированные в установленном порядке и внесенные в государственный реестр, состоящие из смешанных и несмешанных продуктов для использования в терапевтических или профилактических целях, расфасованные в виде дозированных лекарственных форм или в упаковки для розничной продажи Корма животного происхождения (включая корма для непродуктивных животных)\n"
          ]
        }
      ]
    },
    {
      "cell_type": "code",
      "metadata": {
        "id": "dDXqpw31_pv0"
      },
      "source": [
        "from sklearn.metrics import accuracy_score\n",
        "\n",
        "print('accuracy %s' % accuracy_score(y_pred, y_test))\n",
        "print(classification_report(y_test, y_pred))"
      ],
      "execution_count": null,
      "outputs": []
    },
    {
      "cell_type": "markdown",
      "metadata": {
        "id": "C4X1rrQy8Gss"
      },
      "source": [
        "Linear Support Vector Machine"
      ]
    },
    {
      "cell_type": "code",
      "metadata": {
        "id": "BvPQgb_F8GWr"
      },
      "source": [
        "from sklearn.linear_model import SGDClassifier\n",
        "\n",
        "sgd = Pipeline([('vect', CountVectorizer()),\n",
        "                ('tfidf', TfidfTransformer()),\n",
        "                ('clf', SGDClassifier(loss='hinge', penalty='l2',alpha=1e-3, random_state=42, max_iter=5, tol=None)),\n",
        "               ])"
      ],
      "execution_count": null,
      "outputs": []
    },
    {
      "cell_type": "code",
      "metadata": {
        "colab": {
          "base_uri": "https://localhost:8080/"
        },
        "id": "Y7qh-LeX8MOb",
        "outputId": "2acea9de-1669-4554-fead-f5ecc215b27e"
      },
      "source": [
        "%%time\n",
        "sgd.fit(X_train, y_train)"
      ],
      "execution_count": null,
      "outputs": [
        {
          "output_type": "stream",
          "name": "stdout",
          "text": [
            "CPU times: user 1min 49s, sys: 37.1 s, total: 2min 26s\n",
            "Wall time: 1min 42s\n"
          ]
        },
        {
          "output_type": "execute_result",
          "data": {
            "text/plain": [
              "Pipeline(steps=[('vect', CountVectorizer()), ('tfidf', TfidfTransformer()),\n",
              "                ('clf',\n",
              "                 SGDClassifier(alpha=0.001, max_iter=5, random_state=42,\n",
              "                               tol=None))])"
            ]
          },
          "metadata": {},
          "execution_count": 45
        }
      ]
    },
    {
      "cell_type": "code",
      "metadata": {
        "colab": {
          "base_uri": "https://localhost:8080/"
        },
        "id": "4RDLSxLX8RJE",
        "outputId": "07bc4831-2dd6-469d-8b2e-f69d9a66e7cc"
      },
      "source": [
        "%%time\n",
        "y_pred = sgd.predict(X_test)"
      ],
      "execution_count": null,
      "outputs": [
        {
          "output_type": "stream",
          "name": "stdout",
          "text": [
            "CPU times: user 2.04 s, sys: 33.8 ms, total: 2.08 s\n",
            "Wall time: 2.08 s\n"
          ]
        }
      ]
    },
    {
      "cell_type": "code",
      "metadata": {
        "id": "Yup4CULmcNsY"
      },
      "source": [
        "x = \"Лекарственные средства, зарегистрированные в установленном порядке и внесенные в государственный реестр, состоящие из смешанных и несмешанных продуктов для использования в терапевтических или профилактических целях, расфасованные в виде дозированных лекарственных форм или в упаковки для розничной продажи\""
      ],
      "execution_count": null,
      "outputs": []
    },
    {
      "cell_type": "code",
      "metadata": {
        "id": "syEELbmH8UPy"
      },
      "source": [
        "from sklearn.metrics import classification_report\n",
        "\n",
        "print('accuracy %s' % accuracy_score(y_pred, y_test))\n",
        "print(classification_report(y_test, y_pred))\n",
        "table = classification_report(y_test, y_pred)\n",
        "\n",
        "#for line in table:\n",
        " # print(line)\n",
        " # if re.search(x, line):\n",
        "    #print(line)\n",
        "  #  print(1)"
      ],
      "execution_count": null,
      "outputs": []
    },
    {
      "cell_type": "code",
      "metadata": {
        "id": "L0_gaOcVuf1h"
      },
      "source": [
        "nwt = pd.read_excel(\"/Реестр 327 тыс. деклараций ЕП РФ без 140000-200000.xlsx\", 0)"
      ],
      "execution_count": null,
      "outputs": []
    },
    {
      "cell_type": "code",
      "metadata": {
        "colab": {
          "base_uri": "https://localhost:8080/",
          "height": 580
        },
        "id": "LaULxWE7vQ7F",
        "outputId": "c5fe852e-727b-41c8-c679-65504e457d9e"
      },
      "source": [
        "nwt"
      ],
      "execution_count": null,
      "outputs": [
        {
          "output_type": "execute_result",
          "data": {
            "text/html": [
              "<div>\n",
              "<style scoped>\n",
              "    .dataframe tbody tr th:only-of-type {\n",
              "        vertical-align: middle;\n",
              "    }\n",
              "\n",
              "    .dataframe tbody tr th {\n",
              "        vertical-align: top;\n",
              "    }\n",
              "\n",
              "    .dataframe thead th {\n",
              "        text-align: right;\n",
              "    }\n",
              "</style>\n",
              "<table border=\"1\" class=\"dataframe\">\n",
              "  <thead>\n",
              "    <tr style=\"text-align: right;\">\n",
              "      <th></th>\n",
              "      <th>id</th>\n",
              "      <th>Общее наименование продукции</th>\n",
              "      <th>Раздел ЕП РФ (Код из ФГИС ФСА для подкатегории продукции)</th>\n",
              "      <th>Подкатегория продукции</th>\n",
              "    </tr>\n",
              "  </thead>\n",
              "  <tbody>\n",
              "    <tr>\n",
              "      <th>0</th>\n",
              "      <td>1</td>\n",
              "      <td>Парацетамол таблетки 500 мг 10 шт., упаковки я...</td>\n",
              "      <td>9300.1</td>\n",
              "      <td>Лекарственные средства, зарегистрированные в у...</td>\n",
              "    </tr>\n",
              "    <tr>\n",
              "      <th>1</th>\n",
              "      <td>2</td>\n",
              "      <td>Перезаряжаемая литий-ионная батарея торговой м...</td>\n",
              "      <td>3482.2</td>\n",
              "      <td>Аккумуляторы и аккумуляторные батареи никель-м...</td>\n",
              "    </tr>\n",
              "    <tr>\n",
              "      <th>2</th>\n",
              "      <td>3</td>\n",
              "      <td>Перезаряжаемая литий-ионная батарея торговой м...</td>\n",
              "      <td>3482.2</td>\n",
              "      <td>Аккумуляторы и аккумуляторные батареи никель-м...</td>\n",
              "    </tr>\n",
              "    <tr>\n",
              "      <th>3</th>\n",
              "      <td>4</td>\n",
              "      <td>Аппарат вакуумно-лазерной терапии стоматологич...</td>\n",
              "      <td>9444.4</td>\n",
              "      <td>Приборы и аппараты для электролечения высокоча...</td>\n",
              "    </tr>\n",
              "    <tr>\n",
              "      <th>4</th>\n",
              "      <td>5</td>\n",
              "      <td>Блоки оконные и балконные дверные из алюминиев...</td>\n",
              "      <td>5270.1</td>\n",
              "      <td>Блоки оконные и балконные дверные из алюминиев...</td>\n",
              "    </tr>\n",
              "    <tr>\n",
              "      <th>...</th>\n",
              "      <td>...</td>\n",
              "      <td>...</td>\n",
              "      <td>...</td>\n",
              "      <td>...</td>\n",
              "    </tr>\n",
              "    <tr>\n",
              "      <th>267679</th>\n",
              "      <td>327680</td>\n",
              "      <td>Выключатели вакуумные серии ВР1, на номинально...</td>\n",
              "      <td>3414.8</td>\n",
              "      <td>Выключатели силовые</td>\n",
              "    </tr>\n",
              "    <tr>\n",
              "      <th>267680</th>\n",
              "      <td>327681</td>\n",
              "      <td>Виниловые обои на флизелиновой основе</td>\n",
              "      <td>5460.1</td>\n",
              "      <td>Обои</td>\n",
              "    </tr>\n",
              "    <tr>\n",
              "      <th>267681</th>\n",
              "      <td>327682</td>\n",
              "      <td>Смеси бетонные</td>\n",
              "      <td>2364.1</td>\n",
              "      <td>Смеси строительные</td>\n",
              "    </tr>\n",
              "    <tr>\n",
              "      <th>267682</th>\n",
              "      <td>327683</td>\n",
              "      <td>Кормовая добавка для животных</td>\n",
              "      <td>9296.1</td>\n",
              "      <td>Комбикорма и добавки белково-витаминные для не...</td>\n",
              "    </tr>\n",
              "    <tr>\n",
              "      <th>267683</th>\n",
              "      <td>327684</td>\n",
              "      <td>Посуда алюминиевая литая (кроме посуды для дет...</td>\n",
              "      <td>9695.1</td>\n",
              "      <td>Посуда алюминиевая литая (кроме посуды для дет...</td>\n",
              "    </tr>\n",
              "  </tbody>\n",
              "</table>\n",
              "<p>267684 rows × 4 columns</p>\n",
              "</div>"
            ],
            "text/plain": [
              "            id  ...                             Подкатегория продукции\n",
              "0            1  ...  Лекарственные средства, зарегистрированные в у...\n",
              "1            2  ...  Аккумуляторы и аккумуляторные батареи никель-м...\n",
              "2            3  ...  Аккумуляторы и аккумуляторные батареи никель-м...\n",
              "3            4  ...  Приборы и аппараты для электролечения высокоча...\n",
              "4            5  ...  Блоки оконные и балконные дверные из алюминиев...\n",
              "...        ...  ...                                                ...\n",
              "267679  327680  ...                                Выключатели силовые\n",
              "267680  327681  ...                                               Обои\n",
              "267681  327682  ...                                 Смеси строительные\n",
              "267682  327683  ...  Комбикорма и добавки белково-витаминные для не...\n",
              "267683  327684  ...  Посуда алюминиевая литая (кроме посуды для дет...\n",
              "\n",
              "[267684 rows x 4 columns]"
            ]
          },
          "metadata": {},
          "execution_count": 114
        }
      ]
    },
    {
      "cell_type": "code",
      "metadata": {
        "id": "cKWELqehy_Du"
      },
      "source": [
        "def razb(txt, sp):\n",
        "  for i in range(txt.count(\";\")):\n",
        "    id = txt.index(\";\")\n",
        "    sp.append(txt[:id])\n",
        "    txt = txt[id+2:]\n",
        "  sp.append(txt)\n",
        "  return sp\n",
        "\n",
        "dop_sp = []\n",
        "delet = []\n",
        "n, m = nwt.shape\n",
        "for i in range(n):\n",
        "  if \";\" in nwt.iloc[i, 2]:\n",
        "    delet.append(i)\n",
        "    nu = []\n",
        "    st = []\n",
        "    razb(nwt.iloc[i, 2], nu)\n",
        "    razb(nwt.iloc[i, 3], st)\n",
        "    for j in range(len(nu)):\n",
        "        dop_sp.append([nwt.iloc[i, 0], nwt.iloc[i, 1], nu[j], st[j]])\n",
        "for k in dop_sp:\n",
        "  nwt.loc[len(nwt.index)] = k\n",
        "for el in delet[::-1]:\n",
        "  nwt = nwt.drop(el)"
      ],
      "execution_count": null,
      "outputs": []
    },
    {
      "cell_type": "code",
      "metadata": {
        "id": "ig0SsD7czbzu"
      },
      "source": [
        "nwt"
      ],
      "execution_count": null,
      "outputs": []
    },
    {
      "cell_type": "code",
      "metadata": {
        "id": "HdxPy2Gk0Ny2"
      },
      "source": [
        "from sklearn.naive_bayes import MultinomialNB\n",
        "from sklearn.pipeline import Pipeline\n",
        "from sklearn.feature_extraction.text import TfidfTransformer\n",
        "from sklearn.feature_extraction.text import CountVectorizer"
      ],
      "execution_count": null,
      "outputs": []
    },
    {
      "cell_type": "code",
      "metadata": {
        "id": "Pwdc2uP42Jo_"
      },
      "source": [
        "logreg = Pipeline([('vect', CountVectorizer()),\n",
        "               ('tfidf', TfidfTransformer()),\n",
        "               ('clf', MultinomialNB()),\n",
        "              ])"
      ],
      "execution_count": null,
      "outputs": []
    },
    {
      "cell_type": "code",
      "metadata": {
        "id": "bgVd4N-nk9um"
      },
      "source": [
        "dbm = []\n",
        "bkb = table.split('\\n')\n",
        "for i in range(len(bkb)- 1):\n",
        "  dbm.append(bkb[i + 1].strip())\n",
        "  print(bkb[i + 1].strip())"
      ],
      "execution_count": null,
      "outputs": []
    },
    {
      "cell_type": "code",
      "metadata": {
        "id": "uVLewZ6es5qs"
      },
      "source": [
        "def progrm(x):\n",
        "  for txt in dbm:\n",
        "    fk = txt.split('       ')\n",
        "    if str(fk[0]) == str(x):\n",
        "      return int(float(fk[1][:4]) * 100)"
      ],
      "execution_count": null,
      "outputs": []
    },
    {
      "cell_type": "code",
      "metadata": {
        "colab": {
          "base_uri": "https://localhost:8080/",
          "height": 49,
          "referenced_widgets": [
            "711ce055a04a480dbb709a01394c2423",
            "ea0ef899d5f44cb997d62c27ed6a78d9",
            "a1a9bc30898142df85116290ffeaa375",
            "406f36a0f5454515963ffa3f872677e7",
            "fe453726673c43d2affe3b96cc711acd",
            "83a029ac7b0d4dfa8d1ab7526bdcd6e3",
            "f6060e0eb38c4b8e8d20d637ee079beb",
            "88466e86067c4dbba289074e9ff748fd",
            "ce2b8e1ae7ce435eb3fe7630c3123d5d",
            "5c096464f37f4ceaa28095f383a409d6",
            "1cacbd04dbc94f76a1385e20551f9627"
          ]
        },
        "id": "XkOP-zdwtL80",
        "outputId": "5ec30638-4f52-4abc-d812-52b6bb2fb04c"
      },
      "source": [
        "msv = []\n",
        "for index, row in tqdm(nwt.iterrows()):\n",
        "  x = str(row['Общее наименование продукции'])\n",
        "  y = str(row['Подкатегория продукции'])\n",
        "  ect_pred = sgd.predict([x])\n",
        "  zn = progrm(y.rstrip())\n",
        "  try:\n",
        "    if int(zn) > 75:\n",
        "      if ect_pred == y:\n",
        "        msv.append('da')\n",
        "      else:\n",
        "        msv.append('niet')\n",
        "    else:\n",
        "      msv.append('x3')\n",
        "  except:\n",
        "    msv.append('oops')\n",
        "\n",
        "nwt[\"Результат\"] = msv\n",
        "  "
      ],
      "execution_count": null,
      "outputs": [
        {
          "output_type": "display_data",
          "data": {
            "application/vnd.jupyter.widget-view+json": {
              "model_id": "711ce055a04a480dbb709a01394c2423",
              "version_minor": 0,
              "version_major": 2
            },
            "text/plain": [
              "0it [00:00, ?it/s]"
            ]
          },
          "metadata": {}
        }
      ]
    },
    {
      "cell_type": "code",
      "metadata": {
        "colab": {
          "base_uri": "https://localhost:8080/"
        },
        "id": "Q17FyF66tI1L",
        "outputId": "b2e7d2bd-525f-48c7-b499-1e34dcbd069e"
      },
      "source": [
        "progrm(x)"
      ],
      "execution_count": null,
      "outputs": [
        {
          "output_type": "execute_result",
          "data": {
            "text/plain": [
              "94"
            ]
          },
          "metadata": {},
          "execution_count": 163
        }
      ]
    },
    {
      "cell_type": "markdown",
      "metadata": {
        "id": "6tHvCq7CpPA4"
      },
      "source": [
        "Naive Bayes Classifier"
      ]
    },
    {
      "cell_type": "code",
      "metadata": {
        "id": "3MaA8RxRpS4J"
      },
      "source": [
        "from sklearn.naive_bayes import MultinomialNB\n",
        "from sklearn.pipeline import Pipeline\n",
        "from sklearn.feature_extraction.text import TfidfTransformer\n",
        "from sklearn.feature_extraction.text import CountVectorizer"
      ],
      "execution_count": null,
      "outputs": []
    },
    {
      "cell_type": "code",
      "metadata": {
        "id": "FUNYNkpbpTLp"
      },
      "source": [
        "nb = Pipeline([('vect', CountVectorizer()),\n",
        "               ('tfidf', TfidfTransformer()),\n",
        "               ('clf', MultinomialNB()),\n",
        "              ])"
      ],
      "execution_count": null,
      "outputs": []
    },
    {
      "cell_type": "code",
      "metadata": {
        "colab": {
          "base_uri": "https://localhost:8080/"
        },
        "id": "6KknXa3bpYb9",
        "outputId": "0bae5a76-6980-44c0-d73b-9e984a8c3ca5"
      },
      "source": [
        "%%time\n",
        "nb.fit(X_train, y_train)"
      ],
      "execution_count": null,
      "outputs": [
        {
          "name": "stdout",
          "output_type": "stream",
          "text": [
            "CPU times: user 8.55 s, sys: 440 ms, total: 8.99 s\n",
            "Wall time: 9.02 s\n"
          ]
        },
        {
          "data": {
            "text/plain": [
              "Pipeline(steps=[('vect', CountVectorizer()), ('tfidf', TfidfTransformer()),\n",
              "                ('clf', MultinomialNB())])"
            ]
          },
          "execution_count": 337,
          "metadata": {},
          "output_type": "execute_result"
        }
      ]
    },
    {
      "cell_type": "code",
      "metadata": {
        "colab": {
          "base_uri": "https://localhost:8080/"
        },
        "id": "x9rBM00MpbgF",
        "outputId": "fd4a2ab2-5615-4930-b485-b8504e50d66e"
      },
      "source": [
        "%%time\n",
        "from sklearn.metrics import classification_report\n",
        "y_pred = nb.predict(X_test)"
      ],
      "execution_count": null,
      "outputs": [
        {
          "name": "stdout",
          "output_type": "stream",
          "text": [
            "CPU times: user 2.35 s, sys: 5.86 ms, total: 2.35 s\n",
            "Wall time: 2.36 s\n"
          ]
        }
      ]
    },
    {
      "cell_type": "code",
      "metadata": {
        "colab": {
          "base_uri": "https://localhost:8080/",
          "height": 35
        },
        "id": "qm3Ki0D9peG2",
        "outputId": "1ca5849d-5321-450e-ccc9-16959d006ebc"
      },
      "source": [
        "y_pred[0]"
      ],
      "execution_count": null,
      "outputs": [
        {
          "data": {
            "application/vnd.google.colaboratory.intrinsic+json": {
              "type": "string"
            },
            "text/plain": [
              "'Корма животного происхождения (включая корма для непродуктивных животных)'"
            ]
          },
          "execution_count": 339,
          "metadata": {},
          "output_type": "execute_result"
        }
      ]
    },
    {
      "cell_type": "code",
      "metadata": {
        "colab": {
          "base_uri": "https://localhost:8080/"
        },
        "id": "ia-l_BfFpf-1",
        "outputId": "6e2cebce-fdef-4b03-8c00-2bd2f62bb104"
      },
      "source": [
        "print(X_test[0])\n",
        "print(y_test[0])\n",
        "print(y_pred[0])"
      ],
      "execution_count": null,
      "outputs": [
        {
          "name": "stdout",
          "output_type": "stream",
          "text": [
            "парацетамол таблетка мг шт упаковка ячейковый контурный пачка картонный рег № лс серия партия упаковка годный производство оао фармстандарт лексредство инна курский область курск ул агрегатный россия код окпд\n",
            "Лекарственные средства, зарегистрированные в установленном порядке и внесенные в государственный реестр, состоящие из смешанных и несмешанных продуктов для использования в терапевтических или профилактических целях, расфасованные в виде дозированных лекарственных форм или в упаковки для розничной продажи\n",
            "Корма животного происхождения (включая корма для непродуктивных животных)\n"
          ]
        }
      ]
    },
    {
      "cell_type": "code",
      "metadata": {
        "id": "l5n0cwXsP8IK"
      },
      "source": [
        "from sklearn.metrics import accuracy_score\n",
        "\n",
        "print('accuracy %s' % accuracy_score(y_pred, y_test))\n",
        "print(classification_report(y_test, y_pred))"
      ],
      "execution_count": null,
      "outputs": []
    }
  ]
}